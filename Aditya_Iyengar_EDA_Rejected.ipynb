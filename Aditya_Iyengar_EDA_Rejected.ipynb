{
  "nbformat": 4,
  "nbformat_minor": 0,
  "metadata": {
    "colab": {
      "name": "Aditya Iyengar EDA Rejected.ipynb",
      "provenance": [],
      "collapsed_sections": []
    },
    "kernelspec": {
      "name": "python3",
      "display_name": "Python 3"
    },
    "language_info": {
      "name": "python"
    }
  },
  "cells": [
    {
      "cell_type": "code",
      "metadata": {
        "id": "BWweoatEoJ_5"
      },
      "source": [
        "import numpy as np\n",
        "import pandas as pd\n",
        "import matplotlib.pyplot as plt\n",
        "import seaborn as sns\n",
        "sns.set_style('whitegrid')"
      ],
      "execution_count": 1,
      "outputs": []
    },
    {
      "cell_type": "code",
      "metadata": {
        "id": "OWeDU_b0oU64"
      },
      "source": [
        "rejected = pd.read_csv(\"rejected_2007_to_2018Q4.csv\")"
      ],
      "execution_count": 2,
      "outputs": []
    },
    {
      "cell_type": "markdown",
      "metadata": {
        "id": "otsJh9d67w2r"
      },
      "source": [
        "# Cleaning of \"Rejected\" Dataset"
      ]
    },
    {
      "cell_type": "code",
      "metadata": {
        "colab": {
          "base_uri": "https://localhost:8080/"
        },
        "id": "FoHLcp06oYL_",
        "outputId": "714bf734-32f4-4ee6-cca0-82d2df1df5c1"
      },
      "source": [
        "rejected.shape"
      ],
      "execution_count": 3,
      "outputs": [
        {
          "output_type": "execute_result",
          "data": {
            "text/plain": [
              "(15179, 9)"
            ]
          },
          "metadata": {
            "tags": []
          },
          "execution_count": 3
        }
      ]
    },
    {
      "cell_type": "code",
      "metadata": {
        "colab": {
          "base_uri": "https://localhost:8080/",
          "height": 237
        },
        "id": "PE4DWyViobJ7",
        "outputId": "200b934e-8975-49af-88a4-8ae96c2560da"
      },
      "source": [
        "rejected.head()"
      ],
      "execution_count": 4,
      "outputs": [
        {
          "output_type": "execute_result",
          "data": {
            "text/html": [
              "<div>\n",
              "<style scoped>\n",
              "    .dataframe tbody tr th:only-of-type {\n",
              "        vertical-align: middle;\n",
              "    }\n",
              "\n",
              "    .dataframe tbody tr th {\n",
              "        vertical-align: top;\n",
              "    }\n",
              "\n",
              "    .dataframe thead th {\n",
              "        text-align: right;\n",
              "    }\n",
              "</style>\n",
              "<table border=\"1\" class=\"dataframe\">\n",
              "  <thead>\n",
              "    <tr style=\"text-align: right;\">\n",
              "      <th></th>\n",
              "      <th>Amount Requested</th>\n",
              "      <th>Application Date</th>\n",
              "      <th>Loan Title</th>\n",
              "      <th>Risk_Score</th>\n",
              "      <th>Debt-To-Income Ratio</th>\n",
              "      <th>Zip Code</th>\n",
              "      <th>State</th>\n",
              "      <th>Employment Length</th>\n",
              "      <th>Policy Code</th>\n",
              "    </tr>\n",
              "  </thead>\n",
              "  <tbody>\n",
              "    <tr>\n",
              "      <th>0</th>\n",
              "      <td>1000.0</td>\n",
              "      <td>2007-05-26</td>\n",
              "      <td>Wedding Covered but No Honeymoon</td>\n",
              "      <td>693.0</td>\n",
              "      <td>10%</td>\n",
              "      <td>481xx</td>\n",
              "      <td>NM</td>\n",
              "      <td>4 years</td>\n",
              "      <td>0.0</td>\n",
              "    </tr>\n",
              "    <tr>\n",
              "      <th>1</th>\n",
              "      <td>1000.0</td>\n",
              "      <td>2007-05-26</td>\n",
              "      <td>Consolidating Debt</td>\n",
              "      <td>703.0</td>\n",
              "      <td>10%</td>\n",
              "      <td>010xx</td>\n",
              "      <td>MA</td>\n",
              "      <td>&lt; 1 year</td>\n",
              "      <td>0.0</td>\n",
              "    </tr>\n",
              "    <tr>\n",
              "      <th>2</th>\n",
              "      <td>11000.0</td>\n",
              "      <td>2007-05-27</td>\n",
              "      <td>Want to consolidate my debt</td>\n",
              "      <td>715.0</td>\n",
              "      <td>10%</td>\n",
              "      <td>212xx</td>\n",
              "      <td>MD</td>\n",
              "      <td>1 year</td>\n",
              "      <td>0.0</td>\n",
              "    </tr>\n",
              "    <tr>\n",
              "      <th>3</th>\n",
              "      <td>6000.0</td>\n",
              "      <td>2007-05-27</td>\n",
              "      <td>waksman</td>\n",
              "      <td>698.0</td>\n",
              "      <td>38.64%</td>\n",
              "      <td>017xx</td>\n",
              "      <td>MA</td>\n",
              "      <td>&lt; 1 year</td>\n",
              "      <td>0.0</td>\n",
              "    </tr>\n",
              "    <tr>\n",
              "      <th>4</th>\n",
              "      <td>1500.0</td>\n",
              "      <td>2007-05-27</td>\n",
              "      <td>mdrigo</td>\n",
              "      <td>509.0</td>\n",
              "      <td>9.43%</td>\n",
              "      <td>209xx</td>\n",
              "      <td>MD</td>\n",
              "      <td>&lt; 1 year</td>\n",
              "      <td>0.0</td>\n",
              "    </tr>\n",
              "  </tbody>\n",
              "</table>\n",
              "</div>"
            ],
            "text/plain": [
              "   Amount Requested Application Date  ... Employment Length  Policy Code\n",
              "0            1000.0       2007-05-26  ...           4 years          0.0\n",
              "1            1000.0       2007-05-26  ...          < 1 year          0.0\n",
              "2           11000.0       2007-05-27  ...            1 year          0.0\n",
              "3            6000.0       2007-05-27  ...          < 1 year          0.0\n",
              "4            1500.0       2007-05-27  ...          < 1 year          0.0\n",
              "\n",
              "[5 rows x 9 columns]"
            ]
          },
          "metadata": {
            "tags": []
          },
          "execution_count": 4
        }
      ]
    },
    {
      "cell_type": "code",
      "metadata": {
        "colab": {
          "base_uri": "https://localhost:8080/"
        },
        "id": "Kbwg4SqrofgV",
        "outputId": "9a7f9763-0f14-45a5-daf6-b381f1a8c2b0"
      },
      "source": [
        "rejected.columns"
      ],
      "execution_count": 5,
      "outputs": [
        {
          "output_type": "execute_result",
          "data": {
            "text/plain": [
              "Index(['Amount Requested', 'Application Date', 'Loan Title', 'Risk_Score',\n",
              "       'Debt-To-Income Ratio', 'Zip Code', 'State', 'Employment Length',\n",
              "       'Policy Code'],\n",
              "      dtype='object')"
            ]
          },
          "metadata": {
            "tags": []
          },
          "execution_count": 5
        }
      ]
    },
    {
      "cell_type": "code",
      "metadata": {
        "colab": {
          "base_uri": "https://localhost:8080/"
        },
        "id": "0ejCUnWQoje0",
        "outputId": "ce6c24f8-43f2-47ec-cd18-c7d887db1b86"
      },
      "source": [
        "rejected.info()"
      ],
      "execution_count": 6,
      "outputs": [
        {
          "output_type": "stream",
          "text": [
            "<class 'pandas.core.frame.DataFrame'>\n",
            "RangeIndex: 15179 entries, 0 to 15178\n",
            "Data columns (total 9 columns):\n",
            " #   Column                Non-Null Count  Dtype  \n",
            "---  ------                --------------  -----  \n",
            " 0   Amount Requested      15179 non-null  float64\n",
            " 1   Application Date      15179 non-null  object \n",
            " 2   Loan Title            15178 non-null  object \n",
            " 3   Risk_Score            14406 non-null  float64\n",
            " 4   Debt-To-Income Ratio  15179 non-null  object \n",
            " 5   Zip Code              15158 non-null  object \n",
            " 6   State                 15158 non-null  object \n",
            " 7   Employment Length     15178 non-null  object \n",
            " 8   Policy Code           15178 non-null  float64\n",
            "dtypes: float64(3), object(6)\n",
            "memory usage: 1.0+ MB\n"
          ],
          "name": "stdout"
        }
      ]
    },
    {
      "cell_type": "code",
      "metadata": {
        "colab": {
          "base_uri": "https://localhost:8080/",
          "height": 295
        },
        "id": "agk5x2SgokqC",
        "outputId": "f4551126-8961-447f-a2b0-4d2072dc7420"
      },
      "source": [
        "rejected.describe()"
      ],
      "execution_count": 7,
      "outputs": [
        {
          "output_type": "execute_result",
          "data": {
            "text/html": [
              "<div>\n",
              "<style scoped>\n",
              "    .dataframe tbody tr th:only-of-type {\n",
              "        vertical-align: middle;\n",
              "    }\n",
              "\n",
              "    .dataframe tbody tr th {\n",
              "        vertical-align: top;\n",
              "    }\n",
              "\n",
              "    .dataframe thead th {\n",
              "        text-align: right;\n",
              "    }\n",
              "</style>\n",
              "<table border=\"1\" class=\"dataframe\">\n",
              "  <thead>\n",
              "    <tr style=\"text-align: right;\">\n",
              "      <th></th>\n",
              "      <th>Amount Requested</th>\n",
              "      <th>Risk_Score</th>\n",
              "      <th>Policy Code</th>\n",
              "    </tr>\n",
              "  </thead>\n",
              "  <tbody>\n",
              "    <tr>\n",
              "      <th>count</th>\n",
              "      <td>15179.000000</td>\n",
              "      <td>14406.000000</td>\n",
              "      <td>15178.0</td>\n",
              "    </tr>\n",
              "    <tr>\n",
              "      <th>mean</th>\n",
              "      <td>9706.453783</td>\n",
              "      <td>566.654172</td>\n",
              "      <td>0.0</td>\n",
              "    </tr>\n",
              "    <tr>\n",
              "      <th>std</th>\n",
              "      <td>7446.411975</td>\n",
              "      <td>146.231879</td>\n",
              "      <td>0.0</td>\n",
              "    </tr>\n",
              "    <tr>\n",
              "      <th>min</th>\n",
              "      <td>500.000000</td>\n",
              "      <td>0.000000</td>\n",
              "      <td>0.0</td>\n",
              "    </tr>\n",
              "    <tr>\n",
              "      <th>25%</th>\n",
              "      <td>3587.500000</td>\n",
              "      <td>506.000000</td>\n",
              "      <td>0.0</td>\n",
              "    </tr>\n",
              "    <tr>\n",
              "      <th>50%</th>\n",
              "      <td>7500.000000</td>\n",
              "      <td>594.000000</td>\n",
              "      <td>0.0</td>\n",
              "    </tr>\n",
              "    <tr>\n",
              "      <th>75%</th>\n",
              "      <td>15000.000000</td>\n",
              "      <td>659.000000</td>\n",
              "      <td>0.0</td>\n",
              "    </tr>\n",
              "    <tr>\n",
              "      <th>max</th>\n",
              "      <td>35000.000000</td>\n",
              "      <td>821.000000</td>\n",
              "      <td>0.0</td>\n",
              "    </tr>\n",
              "  </tbody>\n",
              "</table>\n",
              "</div>"
            ],
            "text/plain": [
              "       Amount Requested    Risk_Score  Policy Code\n",
              "count      15179.000000  14406.000000      15178.0\n",
              "mean        9706.453783    566.654172          0.0\n",
              "std         7446.411975    146.231879          0.0\n",
              "min          500.000000      0.000000          0.0\n",
              "25%         3587.500000    506.000000          0.0\n",
              "50%         7500.000000    594.000000          0.0\n",
              "75%        15000.000000    659.000000          0.0\n",
              "max        35000.000000    821.000000          0.0"
            ]
          },
          "metadata": {
            "tags": []
          },
          "execution_count": 7
        }
      ]
    },
    {
      "cell_type": "code",
      "metadata": {
        "colab": {
          "base_uri": "https://localhost:8080/"
        },
        "id": "ZVtzHQu5omYQ",
        "outputId": "b24a37d7-a37f-415e-9616-74b5aeac3460"
      },
      "source": [
        "rejected.info(null_counts=True, verbose=True)"
      ],
      "execution_count": 8,
      "outputs": [
        {
          "output_type": "stream",
          "text": [
            "<class 'pandas.core.frame.DataFrame'>\n",
            "RangeIndex: 15179 entries, 0 to 15178\n",
            "Data columns (total 9 columns):\n",
            " #   Column                Non-Null Count  Dtype  \n",
            "---  ------                --------------  -----  \n",
            " 0   Amount Requested      15179 non-null  float64\n",
            " 1   Application Date      15179 non-null  object \n",
            " 2   Loan Title            15178 non-null  object \n",
            " 3   Risk_Score            14406 non-null  float64\n",
            " 4   Debt-To-Income Ratio  15179 non-null  object \n",
            " 5   Zip Code              15158 non-null  object \n",
            " 6   State                 15158 non-null  object \n",
            " 7   Employment Length     15178 non-null  object \n",
            " 8   Policy Code           15178 non-null  float64\n",
            "dtypes: float64(3), object(6)\n",
            "memory usage: 1.0+ MB\n"
          ],
          "name": "stdout"
        }
      ]
    },
    {
      "cell_type": "code",
      "metadata": {
        "colab": {
          "base_uri": "https://localhost:8080/",
          "height": 417
        },
        "id": "VHiNsJ8LosSU",
        "outputId": "36df898a-c618-4a4f-8e53-9c5e36349393"
      },
      "source": [
        "rejected.isnull()"
      ],
      "execution_count": 9,
      "outputs": [
        {
          "output_type": "execute_result",
          "data": {
            "text/html": [
              "<div>\n",
              "<style scoped>\n",
              "    .dataframe tbody tr th:only-of-type {\n",
              "        vertical-align: middle;\n",
              "    }\n",
              "\n",
              "    .dataframe tbody tr th {\n",
              "        vertical-align: top;\n",
              "    }\n",
              "\n",
              "    .dataframe thead th {\n",
              "        text-align: right;\n",
              "    }\n",
              "</style>\n",
              "<table border=\"1\" class=\"dataframe\">\n",
              "  <thead>\n",
              "    <tr style=\"text-align: right;\">\n",
              "      <th></th>\n",
              "      <th>Amount Requested</th>\n",
              "      <th>Application Date</th>\n",
              "      <th>Loan Title</th>\n",
              "      <th>Risk_Score</th>\n",
              "      <th>Debt-To-Income Ratio</th>\n",
              "      <th>Zip Code</th>\n",
              "      <th>State</th>\n",
              "      <th>Employment Length</th>\n",
              "      <th>Policy Code</th>\n",
              "    </tr>\n",
              "  </thead>\n",
              "  <tbody>\n",
              "    <tr>\n",
              "      <th>0</th>\n",
              "      <td>False</td>\n",
              "      <td>False</td>\n",
              "      <td>False</td>\n",
              "      <td>False</td>\n",
              "      <td>False</td>\n",
              "      <td>False</td>\n",
              "      <td>False</td>\n",
              "      <td>False</td>\n",
              "      <td>False</td>\n",
              "    </tr>\n",
              "    <tr>\n",
              "      <th>1</th>\n",
              "      <td>False</td>\n",
              "      <td>False</td>\n",
              "      <td>False</td>\n",
              "      <td>False</td>\n",
              "      <td>False</td>\n",
              "      <td>False</td>\n",
              "      <td>False</td>\n",
              "      <td>False</td>\n",
              "      <td>False</td>\n",
              "    </tr>\n",
              "    <tr>\n",
              "      <th>2</th>\n",
              "      <td>False</td>\n",
              "      <td>False</td>\n",
              "      <td>False</td>\n",
              "      <td>False</td>\n",
              "      <td>False</td>\n",
              "      <td>False</td>\n",
              "      <td>False</td>\n",
              "      <td>False</td>\n",
              "      <td>False</td>\n",
              "    </tr>\n",
              "    <tr>\n",
              "      <th>3</th>\n",
              "      <td>False</td>\n",
              "      <td>False</td>\n",
              "      <td>False</td>\n",
              "      <td>False</td>\n",
              "      <td>False</td>\n",
              "      <td>False</td>\n",
              "      <td>False</td>\n",
              "      <td>False</td>\n",
              "      <td>False</td>\n",
              "    </tr>\n",
              "    <tr>\n",
              "      <th>4</th>\n",
              "      <td>False</td>\n",
              "      <td>False</td>\n",
              "      <td>False</td>\n",
              "      <td>False</td>\n",
              "      <td>False</td>\n",
              "      <td>False</td>\n",
              "      <td>False</td>\n",
              "      <td>False</td>\n",
              "      <td>False</td>\n",
              "    </tr>\n",
              "    <tr>\n",
              "      <th>...</th>\n",
              "      <td>...</td>\n",
              "      <td>...</td>\n",
              "      <td>...</td>\n",
              "      <td>...</td>\n",
              "      <td>...</td>\n",
              "      <td>...</td>\n",
              "      <td>...</td>\n",
              "      <td>...</td>\n",
              "      <td>...</td>\n",
              "    </tr>\n",
              "    <tr>\n",
              "      <th>15174</th>\n",
              "      <td>False</td>\n",
              "      <td>False</td>\n",
              "      <td>False</td>\n",
              "      <td>False</td>\n",
              "      <td>False</td>\n",
              "      <td>False</td>\n",
              "      <td>False</td>\n",
              "      <td>False</td>\n",
              "      <td>False</td>\n",
              "    </tr>\n",
              "    <tr>\n",
              "      <th>15175</th>\n",
              "      <td>False</td>\n",
              "      <td>False</td>\n",
              "      <td>False</td>\n",
              "      <td>False</td>\n",
              "      <td>False</td>\n",
              "      <td>False</td>\n",
              "      <td>False</td>\n",
              "      <td>False</td>\n",
              "      <td>False</td>\n",
              "    </tr>\n",
              "    <tr>\n",
              "      <th>15176</th>\n",
              "      <td>False</td>\n",
              "      <td>False</td>\n",
              "      <td>False</td>\n",
              "      <td>False</td>\n",
              "      <td>False</td>\n",
              "      <td>False</td>\n",
              "      <td>False</td>\n",
              "      <td>False</td>\n",
              "      <td>False</td>\n",
              "    </tr>\n",
              "    <tr>\n",
              "      <th>15177</th>\n",
              "      <td>False</td>\n",
              "      <td>False</td>\n",
              "      <td>False</td>\n",
              "      <td>False</td>\n",
              "      <td>False</td>\n",
              "      <td>False</td>\n",
              "      <td>False</td>\n",
              "      <td>False</td>\n",
              "      <td>False</td>\n",
              "    </tr>\n",
              "    <tr>\n",
              "      <th>15178</th>\n",
              "      <td>False</td>\n",
              "      <td>False</td>\n",
              "      <td>False</td>\n",
              "      <td>False</td>\n",
              "      <td>False</td>\n",
              "      <td>False</td>\n",
              "      <td>False</td>\n",
              "      <td>True</td>\n",
              "      <td>True</td>\n",
              "    </tr>\n",
              "  </tbody>\n",
              "</table>\n",
              "<p>15179 rows × 9 columns</p>\n",
              "</div>"
            ],
            "text/plain": [
              "       Amount Requested  Application Date  ...  Employment Length  Policy Code\n",
              "0                 False             False  ...              False        False\n",
              "1                 False             False  ...              False        False\n",
              "2                 False             False  ...              False        False\n",
              "3                 False             False  ...              False        False\n",
              "4                 False             False  ...              False        False\n",
              "...                 ...               ...  ...                ...          ...\n",
              "15174             False             False  ...              False        False\n",
              "15175             False             False  ...              False        False\n",
              "15176             False             False  ...              False        False\n",
              "15177             False             False  ...              False        False\n",
              "15178             False             False  ...               True         True\n",
              "\n",
              "[15179 rows x 9 columns]"
            ]
          },
          "metadata": {
            "tags": []
          },
          "execution_count": 9
        }
      ]
    },
    {
      "cell_type": "code",
      "metadata": {
        "colab": {
          "base_uri": "https://localhost:8080/"
        },
        "id": "2El5NSIoovEr",
        "outputId": "ef9ba45a-29de-48bc-e4d7-62d133cc6cd7"
      },
      "source": [
        "rejected.isnull().count"
      ],
      "execution_count": 10,
      "outputs": [
        {
          "output_type": "execute_result",
          "data": {
            "text/plain": [
              "<bound method DataFrame.count of        Amount Requested  Application Date  ...  Employment Length  Policy Code\n",
              "0                 False             False  ...              False        False\n",
              "1                 False             False  ...              False        False\n",
              "2                 False             False  ...              False        False\n",
              "3                 False             False  ...              False        False\n",
              "4                 False             False  ...              False        False\n",
              "...                 ...               ...  ...                ...          ...\n",
              "15174             False             False  ...              False        False\n",
              "15175             False             False  ...              False        False\n",
              "15176             False             False  ...              False        False\n",
              "15177             False             False  ...              False        False\n",
              "15178             False             False  ...               True         True\n",
              "\n",
              "[15179 rows x 9 columns]>"
            ]
          },
          "metadata": {
            "tags": []
          },
          "execution_count": 10
        }
      ]
    },
    {
      "cell_type": "code",
      "metadata": {
        "colab": {
          "base_uri": "https://localhost:8080/"
        },
        "id": "CBY6Pr8box0Z",
        "outputId": "e090d925-d19f-4852-85e1-ce8ccbc4b337"
      },
      "source": [
        "rejected.isnull().sum(axis=0)"
      ],
      "execution_count": 11,
      "outputs": [
        {
          "output_type": "execute_result",
          "data": {
            "text/plain": [
              "Amount Requested          0\n",
              "Application Date          0\n",
              "Loan Title                1\n",
              "Risk_Score              773\n",
              "Debt-To-Income Ratio      0\n",
              "Zip Code                 21\n",
              "State                    21\n",
              "Employment Length         1\n",
              "Policy Code               1\n",
              "dtype: int64"
            ]
          },
          "metadata": {
            "tags": []
          },
          "execution_count": 11
        }
      ]
    },
    {
      "cell_type": "code",
      "metadata": {
        "colab": {
          "base_uri": "https://localhost:8080/"
        },
        "id": "NUPEd5IPo46m",
        "outputId": "639e5a0f-2b18-4ed3-94ac-64d2e90d7c45"
      },
      "source": [
        "category_col=rejected.select_dtypes(include=['object']).columns.tolist()\n",
        "category_col"
      ],
      "execution_count": 12,
      "outputs": [
        {
          "output_type": "execute_result",
          "data": {
            "text/plain": [
              "['Application Date',\n",
              " 'Loan Title',\n",
              " 'Debt-To-Income Ratio',\n",
              " 'Zip Code',\n",
              " 'State',\n",
              " 'Employment Length']"
            ]
          },
          "metadata": {
            "tags": []
          },
          "execution_count": 12
        }
      ]
    },
    {
      "cell_type": "code",
      "metadata": {
        "colab": {
          "base_uri": "https://localhost:8080/"
        },
        "id": "p01NpHfapCje",
        "outputId": "c952a4fc-9bb4-4764-95ed-8229f1b5c141"
      },
      "source": [
        "integer_col=rejected.select_dtypes(include=['int64','float64']).columns.tolist()\n",
        "integer_col"
      ],
      "execution_count": 13,
      "outputs": [
        {
          "output_type": "execute_result",
          "data": {
            "text/plain": [
              "['Amount Requested', 'Risk_Score', 'Policy Code']"
            ]
          },
          "metadata": {
            "tags": []
          },
          "execution_count": 13
        }
      ]
    },
    {
      "cell_type": "code",
      "metadata": {
        "id": "_c7ADZI4pK2Q"
      },
      "source": [
        "for column in rejected:\n",
        "    if rejected[column].isnull().any():\n",
        "        if(column in category_col):\n",
        "            rejected[column]=rejected[column].fillna(rejected[column].mode()[0])\n",
        "        else:\n",
        "            rejected[column]=rejected[column].fillna(rejected[column].mean())"
      ],
      "execution_count": 14,
      "outputs": []
    },
    {
      "cell_type": "code",
      "metadata": {
        "colab": {
          "base_uri": "https://localhost:8080/"
        },
        "id": "ObYKSiVmpOCY",
        "outputId": "18033cba-0385-4ad3-cf4b-1ad5dd7c43d8"
      },
      "source": [
        "rejected.isnull().sum(axis=0)"
      ],
      "execution_count": 15,
      "outputs": [
        {
          "output_type": "execute_result",
          "data": {
            "text/plain": [
              "Amount Requested        0\n",
              "Application Date        0\n",
              "Loan Title              0\n",
              "Risk_Score              0\n",
              "Debt-To-Income Ratio    0\n",
              "Zip Code                0\n",
              "State                   0\n",
              "Employment Length       0\n",
              "Policy Code             0\n",
              "dtype: int64"
            ]
          },
          "metadata": {
            "tags": []
          },
          "execution_count": 15
        }
      ]
    },
    {
      "cell_type": "markdown",
      "metadata": {
        "id": "UWwdQDLTpmfs"
      },
      "source": [
        "# Analysis of \"Rejected\" Dataset"
      ]
    },
    {
      "cell_type": "code",
      "metadata": {
        "colab": {
          "base_uri": "https://localhost:8080/",
          "height": 237
        },
        "id": "SrmTuQtDpm08",
        "outputId": "63e09922-99b3-43c5-cbb6-ad9fe87b71cd"
      },
      "source": [
        "rejected.head()"
      ],
      "execution_count": 16,
      "outputs": [
        {
          "output_type": "execute_result",
          "data": {
            "text/html": [
              "<div>\n",
              "<style scoped>\n",
              "    .dataframe tbody tr th:only-of-type {\n",
              "        vertical-align: middle;\n",
              "    }\n",
              "\n",
              "    .dataframe tbody tr th {\n",
              "        vertical-align: top;\n",
              "    }\n",
              "\n",
              "    .dataframe thead th {\n",
              "        text-align: right;\n",
              "    }\n",
              "</style>\n",
              "<table border=\"1\" class=\"dataframe\">\n",
              "  <thead>\n",
              "    <tr style=\"text-align: right;\">\n",
              "      <th></th>\n",
              "      <th>Amount Requested</th>\n",
              "      <th>Application Date</th>\n",
              "      <th>Loan Title</th>\n",
              "      <th>Risk_Score</th>\n",
              "      <th>Debt-To-Income Ratio</th>\n",
              "      <th>Zip Code</th>\n",
              "      <th>State</th>\n",
              "      <th>Employment Length</th>\n",
              "      <th>Policy Code</th>\n",
              "    </tr>\n",
              "  </thead>\n",
              "  <tbody>\n",
              "    <tr>\n",
              "      <th>0</th>\n",
              "      <td>1000.0</td>\n",
              "      <td>2007-05-26</td>\n",
              "      <td>Wedding Covered but No Honeymoon</td>\n",
              "      <td>693.0</td>\n",
              "      <td>10%</td>\n",
              "      <td>481xx</td>\n",
              "      <td>NM</td>\n",
              "      <td>4 years</td>\n",
              "      <td>0.0</td>\n",
              "    </tr>\n",
              "    <tr>\n",
              "      <th>1</th>\n",
              "      <td>1000.0</td>\n",
              "      <td>2007-05-26</td>\n",
              "      <td>Consolidating Debt</td>\n",
              "      <td>703.0</td>\n",
              "      <td>10%</td>\n",
              "      <td>010xx</td>\n",
              "      <td>MA</td>\n",
              "      <td>&lt; 1 year</td>\n",
              "      <td>0.0</td>\n",
              "    </tr>\n",
              "    <tr>\n",
              "      <th>2</th>\n",
              "      <td>11000.0</td>\n",
              "      <td>2007-05-27</td>\n",
              "      <td>Want to consolidate my debt</td>\n",
              "      <td>715.0</td>\n",
              "      <td>10%</td>\n",
              "      <td>212xx</td>\n",
              "      <td>MD</td>\n",
              "      <td>1 year</td>\n",
              "      <td>0.0</td>\n",
              "    </tr>\n",
              "    <tr>\n",
              "      <th>3</th>\n",
              "      <td>6000.0</td>\n",
              "      <td>2007-05-27</td>\n",
              "      <td>waksman</td>\n",
              "      <td>698.0</td>\n",
              "      <td>38.64%</td>\n",
              "      <td>017xx</td>\n",
              "      <td>MA</td>\n",
              "      <td>&lt; 1 year</td>\n",
              "      <td>0.0</td>\n",
              "    </tr>\n",
              "    <tr>\n",
              "      <th>4</th>\n",
              "      <td>1500.0</td>\n",
              "      <td>2007-05-27</td>\n",
              "      <td>mdrigo</td>\n",
              "      <td>509.0</td>\n",
              "      <td>9.43%</td>\n",
              "      <td>209xx</td>\n",
              "      <td>MD</td>\n",
              "      <td>&lt; 1 year</td>\n",
              "      <td>0.0</td>\n",
              "    </tr>\n",
              "  </tbody>\n",
              "</table>\n",
              "</div>"
            ],
            "text/plain": [
              "   Amount Requested Application Date  ... Employment Length  Policy Code\n",
              "0            1000.0       2007-05-26  ...           4 years          0.0\n",
              "1            1000.0       2007-05-26  ...          < 1 year          0.0\n",
              "2           11000.0       2007-05-27  ...            1 year          0.0\n",
              "3            6000.0       2007-05-27  ...          < 1 year          0.0\n",
              "4            1500.0       2007-05-27  ...          < 1 year          0.0\n",
              "\n",
              "[5 rows x 9 columns]"
            ]
          },
          "metadata": {
            "tags": []
          },
          "execution_count": 16
        }
      ]
    },
    {
      "cell_type": "markdown",
      "metadata": {
        "id": "__8l2OrNpuii"
      },
      "source": [
        "### Graphs on Debt-to-income ratio and risk score"
      ]
    },
    {
      "cell_type": "code",
      "metadata": {
        "id": "iM9AhdItxbG-"
      },
      "source": [
        "rejected_temp = rejected.copy()"
      ],
      "execution_count": 17,
      "outputs": []
    },
    {
      "cell_type": "code",
      "metadata": {
        "id": "0svTchCSpu-0"
      },
      "source": [
        "rejected_temp = rejected.copy()\n",
        "rejected_temp['Debt-To-Income Ratio'] = rejected_temp['Debt-To-Income Ratio'].str.replace(r'%','')"
      ],
      "execution_count": 18,
      "outputs": []
    },
    {
      "cell_type": "code",
      "metadata": {
        "id": "KvQuJhWZpybS"
      },
      "source": [
        "rejected_temp['Debt-To-Income Ratio'] = rejected_temp['Debt-To-Income Ratio'].astype(float)\n",
        "rejected_temp['Debt-To-Income Ratio'] = round(rejected_temp['Debt-To-Income Ratio'],0)\n",
        "rejected_temp['Debt-To-Income Ratio'] = rejected_temp['Debt-To-Income Ratio'].astype(int)"
      ],
      "execution_count": 19,
      "outputs": []
    },
    {
      "cell_type": "code",
      "metadata": {
        "id": "dTjDvWheq4Kn"
      },
      "source": [
        "i = rejected_temp[rejected_temp['Debt-To-Income Ratio'] == -1].index"
      ],
      "execution_count": 20,
      "outputs": []
    },
    {
      "cell_type": "code",
      "metadata": {
        "id": "00c41JTfrck1"
      },
      "source": [
        "rejected_temp.drop(i, inplace=True)"
      ],
      "execution_count": 21,
      "outputs": []
    },
    {
      "cell_type": "code",
      "metadata": {
        "colab": {
          "base_uri": "https://localhost:8080/"
        },
        "id": "SXzsHN1sp1Oo",
        "outputId": "fe89b420-3450-4a6c-af36-02345a0734bc"
      },
      "source": [
        "rejected_temp['Debt-To-Income Ratio'] #All values are in percentages, but we removed % sign and made the column data type numeric"
      ],
      "execution_count": 22,
      "outputs": [
        {
          "output_type": "execute_result",
          "data": {
            "text/plain": [
              "0        10\n",
              "1        10\n",
              "2        10\n",
              "3        39\n",
              "4         9\n",
              "         ..\n",
              "15174    20\n",
              "15175     1\n",
              "15176     2\n",
              "15177    20\n",
              "15178     5\n",
              "Name: Debt-To-Income Ratio, Length: 14810, dtype: int64"
            ]
          },
          "metadata": {
            "tags": []
          },
          "execution_count": 22
        }
      ]
    },
    {
      "cell_type": "code",
      "metadata": {
        "id": "uUs7P8_9p3rj"
      },
      "source": [
        "r_t = rejected_temp[['Risk_Score','Debt-To-Income Ratio']]"
      ],
      "execution_count": 23,
      "outputs": []
    },
    {
      "cell_type": "code",
      "metadata": {
        "colab": {
          "base_uri": "https://localhost:8080/"
        },
        "id": "cJWa_aWFqDiT",
        "outputId": "72393ac3-39cd-484b-dc45-9cac90f22fab"
      },
      "source": [
        "r_t['Risk_Score']"
      ],
      "execution_count": 24,
      "outputs": [
        {
          "output_type": "execute_result",
          "data": {
            "text/plain": [
              "0        693.0\n",
              "1        703.0\n",
              "2        715.0\n",
              "3        698.0\n",
              "4        509.0\n",
              "         ...  \n",
              "15174    668.0\n",
              "15175    488.0\n",
              "15176    430.0\n",
              "15177    630.0\n",
              "15178    647.0\n",
              "Name: Risk_Score, Length: 14810, dtype: float64"
            ]
          },
          "metadata": {
            "tags": []
          },
          "execution_count": 24
        }
      ]
    },
    {
      "cell_type": "code",
      "metadata": {
        "colab": {
          "base_uri": "https://localhost:8080/"
        },
        "id": "xY13RRtsunYZ",
        "outputId": "77f6e76d-3641-448b-fec2-6835f67a2147"
      },
      "source": [
        "r_t['Debt-To-Income Ratio']"
      ],
      "execution_count": 25,
      "outputs": [
        {
          "output_type": "execute_result",
          "data": {
            "text/plain": [
              "0        10\n",
              "1        10\n",
              "2        10\n",
              "3        39\n",
              "4         9\n",
              "         ..\n",
              "15174    20\n",
              "15175     1\n",
              "15176     2\n",
              "15177    20\n",
              "15178     5\n",
              "Name: Debt-To-Income Ratio, Length: 14810, dtype: int64"
            ]
          },
          "metadata": {
            "tags": []
          },
          "execution_count": 25
        }
      ]
    },
    {
      "cell_type": "code",
      "metadata": {
        "colab": {
          "base_uri": "https://localhost:8080/",
          "height": 417
        },
        "id": "3d4iaBcot3es",
        "outputId": "56726ae4-becf-4aea-cc3c-30901f8a446a"
      },
      "source": [
        "plt.figure(figsize=(12,6))\n",
        "r_t = rejected_temp[['Risk_Score','Debt-To-Income Ratio']]\n",
        "r_t = r_t.set_index('Risk_Score')\n",
        "sns.scatterplot(x = r_t.index, y=r_t['Debt-To-Income Ratio'])"
      ],
      "execution_count": 26,
      "outputs": [
        {
          "output_type": "execute_result",
          "data": {
            "text/plain": [
              "<matplotlib.axes._subplots.AxesSubplot at 0x7ff0bff84710>"
            ]
          },
          "metadata": {
            "tags": []
          },
          "execution_count": 26
        },
        {
          "output_type": "display_data",
          "data": {
            "image/png": "[encoded data removed]",
            "text/plain": [
              "<Figure size 864x432 with 1 Axes>"
            ]
          },
          "metadata": {
            "tags": [],
            "needs_background": "light"
          }
        }
      ]
    },
    {
      "cell_type": "markdown",
      "metadata": {
        "id": "2I5B8XphvNFa"
      },
      "source": [
        "### Graphs On Amount Requested and Application Date(Analysed on yearly basis)"
      ]
    },
    {
      "cell_type": "code",
      "metadata": {
        "colab": {
          "base_uri": "https://localhost:8080/",
          "height": 417
        },
        "id": "XNCaSireuq-p",
        "outputId": "9058684b-181c-46ad-f63a-56b3594fef4b"
      },
      "source": [
        "rejected[['Amount Requested','Application Date']]"
      ],
      "execution_count": 27,
      "outputs": [
        {
          "output_type": "execute_result",
          "data": {
            "text/html": [
              "<div>\n",
              "<style scoped>\n",
              "    .dataframe tbody tr th:only-of-type {\n",
              "        vertical-align: middle;\n",
              "    }\n",
              "\n",
              "    .dataframe tbody tr th {\n",
              "        vertical-align: top;\n",
              "    }\n",
              "\n",
              "    .dataframe thead th {\n",
              "        text-align: right;\n",
              "    }\n",
              "</style>\n",
              "<table border=\"1\" class=\"dataframe\">\n",
              "  <thead>\n",
              "    <tr style=\"text-align: right;\">\n",
              "      <th></th>\n",
              "      <th>Amount Requested</th>\n",
              "      <th>Application Date</th>\n",
              "    </tr>\n",
              "  </thead>\n",
              "  <tbody>\n",
              "    <tr>\n",
              "      <th>0</th>\n",
              "      <td>1000.0</td>\n",
              "      <td>2007-05-26</td>\n",
              "    </tr>\n",
              "    <tr>\n",
              "      <th>1</th>\n",
              "      <td>1000.0</td>\n",
              "      <td>2007-05-26</td>\n",
              "    </tr>\n",
              "    <tr>\n",
              "      <th>2</th>\n",
              "      <td>11000.0</td>\n",
              "      <td>2007-05-27</td>\n",
              "    </tr>\n",
              "    <tr>\n",
              "      <th>3</th>\n",
              "      <td>6000.0</td>\n",
              "      <td>2007-05-27</td>\n",
              "    </tr>\n",
              "    <tr>\n",
              "      <th>4</th>\n",
              "      <td>1500.0</td>\n",
              "      <td>2007-05-27</td>\n",
              "    </tr>\n",
              "    <tr>\n",
              "      <th>...</th>\n",
              "      <td>...</td>\n",
              "      <td>...</td>\n",
              "    </tr>\n",
              "    <tr>\n",
              "      <th>15174</th>\n",
              "      <td>7000.0</td>\n",
              "      <td>2008-04-16</td>\n",
              "    </tr>\n",
              "    <tr>\n",
              "      <th>15175</th>\n",
              "      <td>5000.0</td>\n",
              "      <td>2008-04-16</td>\n",
              "    </tr>\n",
              "    <tr>\n",
              "      <th>15176</th>\n",
              "      <td>5000.0</td>\n",
              "      <td>2008-04-16</td>\n",
              "    </tr>\n",
              "    <tr>\n",
              "      <th>15177</th>\n",
              "      <td>5000.0</td>\n",
              "      <td>2008-04-16</td>\n",
              "    </tr>\n",
              "    <tr>\n",
              "      <th>15178</th>\n",
              "      <td>5000.0</td>\n",
              "      <td>2008-04-16</td>\n",
              "    </tr>\n",
              "  </tbody>\n",
              "</table>\n",
              "<p>15179 rows × 2 columns</p>\n",
              "</div>"
            ],
            "text/plain": [
              "       Amount Requested Application Date\n",
              "0                1000.0       2007-05-26\n",
              "1                1000.0       2007-05-26\n",
              "2               11000.0       2007-05-27\n",
              "3                6000.0       2007-05-27\n",
              "4                1500.0       2007-05-27\n",
              "...                 ...              ...\n",
              "15174            7000.0       2008-04-16\n",
              "15175            5000.0       2008-04-16\n",
              "15176            5000.0       2008-04-16\n",
              "15177            5000.0       2008-04-16\n",
              "15178            5000.0       2008-04-16\n",
              "\n",
              "[15179 rows x 2 columns]"
            ]
          },
          "metadata": {
            "tags": []
          },
          "execution_count": 27
        }
      ]
    },
    {
      "cell_type": "code",
      "metadata": {
        "id": "IaTfbZrVvXAL"
      },
      "source": [
        "rejected_temp['Application Date'] = pd.to_datetime(rejected_temp['Application Date'], format='%Y-%m-%d')"
      ],
      "execution_count": 28,
      "outputs": []
    },
    {
      "cell_type": "code",
      "metadata": {
        "id": "e1mIbHB0vZt9"
      },
      "source": [
        "rejected_temp['Year'] = pd.DatetimeIndex(rejected_temp['Application Date']).year"
      ],
      "execution_count": 29,
      "outputs": []
    },
    {
      "cell_type": "code",
      "metadata": {
        "colab": {
          "base_uri": "https://localhost:8080/",
          "height": 142
        },
        "id": "oFVYox49xkSH",
        "outputId": "c937add8-b9df-4259-acab-23202dd4d8cc"
      },
      "source": [
        "rejected_temp.groupby('Year').sum()"
      ],
      "execution_count": 30,
      "outputs": [
        {
          "output_type": "execute_result",
          "data": {
            "text/html": [
              "<div>\n",
              "<style scoped>\n",
              "    .dataframe tbody tr th:only-of-type {\n",
              "        vertical-align: middle;\n",
              "    }\n",
              "\n",
              "    .dataframe tbody tr th {\n",
              "        vertical-align: top;\n",
              "    }\n",
              "\n",
              "    .dataframe thead th {\n",
              "        text-align: right;\n",
              "    }\n",
              "</style>\n",
              "<table border=\"1\" class=\"dataframe\">\n",
              "  <thead>\n",
              "    <tr style=\"text-align: right;\">\n",
              "      <th></th>\n",
              "      <th>Amount Requested</th>\n",
              "      <th>Risk_Score</th>\n",
              "      <th>Debt-To-Income Ratio</th>\n",
              "      <th>Policy Code</th>\n",
              "    </tr>\n",
              "    <tr>\n",
              "      <th>Year</th>\n",
              "      <th></th>\n",
              "      <th></th>\n",
              "      <th></th>\n",
              "      <th></th>\n",
              "    </tr>\n",
              "  </thead>\n",
              "  <tbody>\n",
              "    <tr>\n",
              "      <th>2007</th>\n",
              "      <td>45080121.58</td>\n",
              "      <td>2.903830e+06</td>\n",
              "      <td>6074157</td>\n",
              "      <td>0.0</td>\n",
              "    </tr>\n",
              "    <tr>\n",
              "      <th>2008</th>\n",
              "      <td>98579440.39</td>\n",
              "      <td>5.486752e+06</td>\n",
              "      <td>3016924</td>\n",
              "      <td>0.0</td>\n",
              "    </tr>\n",
              "  </tbody>\n",
              "</table>\n",
              "</div>"
            ],
            "text/plain": [
              "      Amount Requested    Risk_Score  Debt-To-Income Ratio  Policy Code\n",
              "Year                                                                   \n",
              "2007       45080121.58  2.903830e+06               6074157          0.0\n",
              "2008       98579440.39  5.486752e+06               3016924          0.0"
            ]
          },
          "metadata": {
            "tags": []
          },
          "execution_count": 30
        }
      ]
    },
    {
      "cell_type": "code",
      "metadata": {
        "colab": {
          "base_uri": "https://localhost:8080/",
          "height": 568
        },
        "id": "BDnKoEtzxnCl",
        "outputId": "b3afa407-905a-49d0-ff2f-adad66f9e1f8"
      },
      "source": [
        "plt.figure(figsize=(14,9))\n",
        "sns.barplot(x='Year', y='Amount Requested', data=rejected_temp)\n",
        "plt.xlabel('Year')\n",
        "plt.ylabel('Amount Requested')"
      ],
      "execution_count": 31,
      "outputs": [
        {
          "output_type": "execute_result",
          "data": {
            "text/plain": [
              "Text(0, 0.5, 'Amount Requested')"
            ]
          },
          "metadata": {
            "tags": []
          },
          "execution_count": 31
        },
        {
          "output_type": "display_data",
          "data": {
            "image/png": "[encoded data removed]",
            "text/plain": [
              "<Figure size 1008x648 with 1 Axes>"
            ]
          },
          "metadata": {
            "tags": [],
            "needs_background": "light"
          }
        }
      ]
    },
    {
      "cell_type": "code",
      "metadata": {
        "colab": {
          "base_uri": "https://localhost:8080/",
          "height": 568
        },
        "id": "G3rNg27nyGCP",
        "outputId": "93f92e09-add2-47ba-b11e-638ac3fd960c"
      },
      "source": [
        "plt.figure(figsize=(14,9))\n",
        "sns.boxplot(x='Year', y='Amount Requested', data=rejected_temp)\n",
        "plt.xlabel('Year')\n",
        "plt.ylabel('Amount Requested')"
      ],
      "execution_count": 32,
      "outputs": [
        {
          "output_type": "execute_result",
          "data": {
            "text/plain": [
              "Text(0, 0.5, 'Amount Requested')"
            ]
          },
          "metadata": {
            "tags": []
          },
          "execution_count": 32
        },
        {
          "output_type": "display_data",
          "data": {
            "image/png": "[encoded data removed]",
            "text/plain": [
              "<Figure size 1008x648 with 1 Axes>"
            ]
          },
          "metadata": {
            "tags": [],
            "needs_background": "light"
          }
        }
      ]
    },
    {
      "cell_type": "code",
      "metadata": {
        "id": "_o6XJeUh4vEz"
      },
      "source": [
        ""
      ],
      "execution_count": null,
      "outputs": []
    }
  ]
}