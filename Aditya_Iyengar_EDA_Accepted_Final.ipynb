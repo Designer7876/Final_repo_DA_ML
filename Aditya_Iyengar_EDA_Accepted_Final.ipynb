{
  "nbformat": 4,
  "nbformat_minor": 0,
  "metadata": {
    "interpreter": {
      "hash": "594ebc0113d880d2899e48a7598edb6f48f2370a7b93daffcb87976f6c081e9f"
    },
    "kernelspec": {
      "display_name": "Python 3.9.5 64-bit",
      "name": "python3"
    },
    "language_info": {
      "codemirror_mode": {
        "name": "ipython",
        "version": 3
      },
      "file_extension": ".py",
      "mimetype": "text/x-python",
      "name": "python",
      "nbconvert_exporter": "python",
      "pygments_lexer": "ipython3",
      "version": "3.9.5"
    },
    "colab": {
      "name": "Aditya Iyengar EDA Accepted.ipynb",
      "provenance": [],
      "collapsed_sections": []
    }
  },
  "cells": [
    {
      "cell_type": "code",
      "metadata": {
        "id": "tt26Vr7JiTof"
      },
      "source": [
        "import numpy as np\n",
        "import pandas as pd\n",
        "import matplotlib.pyplot as plt\n",
        "import seaborn as sns\n",
        "sns.set_style('whitegrid')"
      ],
      "execution_count": null,
      "outputs": []
    },
    {
      "cell_type": "code",
      "metadata": {
        "id": "ekIxjr2RiTok",
        "colab": {
          "base_uri": "https://localhost:8080/"
        },
        "outputId": "05763c68-0821-41d0-db23-9124be1b79c9"
      },
      "source": [
        "accepted = pd.read_csv('accepted_2007_to_2018Q4.csv')"
      ],
      "execution_count": null,
      "outputs": [
        {
          "output_type": "stream",
          "text": [
            "/usr/local/lib/python3.7/dist-packages/IPython/core/interactiveshell.py:2718: DtypeWarning: Columns (19) have mixed types.Specify dtype option on import or set low_memory=False.\n",
            "  interactivity=interactivity, compiler=compiler, result=result)\n"
          ],
          "name": "stderr"
        }
      ]
    },
    {
      "cell_type": "code",
      "metadata": {
        "id": "UGhbWIdsiTom",
        "colab": {
          "base_uri": "https://localhost:8080/"
        },
        "outputId": "c7be9d45-34b3-404f-cd63-577c210059a1"
      },
      "source": [
        "accepted.shape"
      ],
      "execution_count": null,
      "outputs": [
        {
          "output_type": "execute_result",
          "data": {
            "text/plain": [
              "(11212, 151)"
            ]
          },
          "metadata": {
            "tags": []
          },
          "execution_count": 3
        }
      ]
    },
    {
      "cell_type": "markdown",
      "metadata": {
        "id": "SHChSBTqiTon"
      },
      "source": [
        "# Data Cleaning for Both \"Accepted\" dataset"
      ]
    },
    {
      "cell_type": "code",
      "metadata": {
        "id": "GgdqnQ5AiToo",
        "colab": {
          "base_uri": "https://localhost:8080/",
          "height": 353
        },
        "outputId": "52ca96e5-db4e-4663-aa48-0ded8fff02c3"
      },
      "source": [
        "accepted.head()"
      ],
      "execution_count": null,
      "outputs": [
        {
          "output_type": "execute_result",
          "data": {
            "text/html": [
              "<div>\n",
              "<style scoped>\n",
              "    .dataframe tbody tr th:only-of-type {\n",
              "        vertical-align: middle;\n",
              "    }\n",
              "\n",
              "    .dataframe tbody tr th {\n",
              "        vertical-align: top;\n",
              "    }\n",
              "\n",
              "    .dataframe thead th {\n",
              "        text-align: right;\n",
              "    }\n",
              "</style>\n",
              "<table border=\"1\" class=\"dataframe\">\n",
              "  <thead>\n",
              "    <tr style=\"text-align: right;\">\n",
              "      <th></th>\n",
              "      <th>id</th>\n",
              "      <th>member_id</th>\n",
              "      <th>loan_amnt</th>\n",
              "      <th>funded_amnt</th>\n",
              "      <th>funded_amnt_inv</th>\n",
              "      <th>term</th>\n",
              "      <th>int_rate</th>\n",
              "      <th>installment</th>\n",
              "      <th>grade</th>\n",
              "      <th>sub_grade</th>\n",
              "      <th>emp_title</th>\n",
              "      <th>emp_length</th>\n",
              "      <th>home_ownership</th>\n",
              "      <th>annual_inc</th>\n",
              "      <th>verification_status</th>\n",
              "      <th>issue_d</th>\n",
              "      <th>loan_status</th>\n",
              "      <th>pymnt_plan</th>\n",
              "      <th>url</th>\n",
              "      <th>desc</th>\n",
              "      <th>purpose</th>\n",
              "      <th>title</th>\n",
              "      <th>zip_code</th>\n",
              "      <th>addr_state</th>\n",
              "      <th>dti</th>\n",
              "      <th>delinq_2yrs</th>\n",
              "      <th>earliest_cr_line</th>\n",
              "      <th>fico_range_low</th>\n",
              "      <th>fico_range_high</th>\n",
              "      <th>inq_last_6mths</th>\n",
              "      <th>mths_since_last_delinq</th>\n",
              "      <th>mths_since_last_record</th>\n",
              "      <th>open_acc</th>\n",
              "      <th>pub_rec</th>\n",
              "      <th>revol_bal</th>\n",
              "      <th>revol_util</th>\n",
              "      <th>total_acc</th>\n",
              "      <th>initial_list_status</th>\n",
              "      <th>out_prncp</th>\n",
              "      <th>out_prncp_inv</th>\n",
              "      <th>...</th>\n",
              "      <th>tot_hi_cred_lim</th>\n",
              "      <th>total_bal_ex_mort</th>\n",
              "      <th>total_bc_limit</th>\n",
              "      <th>total_il_high_credit_limit</th>\n",
              "      <th>revol_bal_joint</th>\n",
              "      <th>sec_app_fico_range_low</th>\n",
              "      <th>sec_app_fico_range_high</th>\n",
              "      <th>sec_app_earliest_cr_line</th>\n",
              "      <th>sec_app_inq_last_6mths</th>\n",
              "      <th>sec_app_mort_acc</th>\n",
              "      <th>sec_app_open_acc</th>\n",
              "      <th>sec_app_revol_util</th>\n",
              "      <th>sec_app_open_act_il</th>\n",
              "      <th>sec_app_num_rev_accts</th>\n",
              "      <th>sec_app_chargeoff_within_12_mths</th>\n",
              "      <th>sec_app_collections_12_mths_ex_med</th>\n",
              "      <th>sec_app_mths_since_last_major_derog</th>\n",
              "      <th>hardship_flag</th>\n",
              "      <th>hardship_type</th>\n",
              "      <th>hardship_reason</th>\n",
              "      <th>hardship_status</th>\n",
              "      <th>deferral_term</th>\n",
              "      <th>hardship_amount</th>\n",
              "      <th>hardship_start_date</th>\n",
              "      <th>hardship_end_date</th>\n",
              "      <th>payment_plan_start_date</th>\n",
              "      <th>hardship_length</th>\n",
              "      <th>hardship_dpd</th>\n",
              "      <th>hardship_loan_status</th>\n",
              "      <th>orig_projected_additional_accrued_interest</th>\n",
              "      <th>hardship_payoff_balance_amount</th>\n",
              "      <th>hardship_last_payment_amount</th>\n",
              "      <th>disbursement_method</th>\n",
              "      <th>debt_settlement_flag</th>\n",
              "      <th>debt_settlement_flag_date</th>\n",
              "      <th>settlement_status</th>\n",
              "      <th>settlement_date</th>\n",
              "      <th>settlement_amount</th>\n",
              "      <th>settlement_percentage</th>\n",
              "      <th>settlement_term</th>\n",
              "    </tr>\n",
              "  </thead>\n",
              "  <tbody>\n",
              "    <tr>\n",
              "      <th>0</th>\n",
              "      <td>68407277</td>\n",
              "      <td>NaN</td>\n",
              "      <td>3600.0</td>\n",
              "      <td>3600.0</td>\n",
              "      <td>3600.0</td>\n",
              "      <td>36 months</td>\n",
              "      <td>13.99</td>\n",
              "      <td>123.03</td>\n",
              "      <td>C</td>\n",
              "      <td>C4</td>\n",
              "      <td>leadman</td>\n",
              "      <td>10+ years</td>\n",
              "      <td>MORTGAGE</td>\n",
              "      <td>55000.0</td>\n",
              "      <td>Not Verified</td>\n",
              "      <td>Dec-2015</td>\n",
              "      <td>Fully Paid</td>\n",
              "      <td>n</td>\n",
              "      <td>https://lendingclub.com/browse/loanDetail.acti...</td>\n",
              "      <td>NaN</td>\n",
              "      <td>debt_consolidation</td>\n",
              "      <td>Debt consolidation</td>\n",
              "      <td>190xx</td>\n",
              "      <td>PA</td>\n",
              "      <td>5.91</td>\n",
              "      <td>0.0</td>\n",
              "      <td>Aug-2003</td>\n",
              "      <td>675.0</td>\n",
              "      <td>679.0</td>\n",
              "      <td>1.0</td>\n",
              "      <td>30.0</td>\n",
              "      <td>NaN</td>\n",
              "      <td>7.0</td>\n",
              "      <td>0.0</td>\n",
              "      <td>2765.0</td>\n",
              "      <td>29.7</td>\n",
              "      <td>13.0</td>\n",
              "      <td>w</td>\n",
              "      <td>0.00</td>\n",
              "      <td>0.00</td>\n",
              "      <td>...</td>\n",
              "      <td>178050.0</td>\n",
              "      <td>7746.0</td>\n",
              "      <td>2400.0</td>\n",
              "      <td>13734.0</td>\n",
              "      <td>NaN</td>\n",
              "      <td>NaN</td>\n",
              "      <td>NaN</td>\n",
              "      <td>NaN</td>\n",
              "      <td>NaN</td>\n",
              "      <td>NaN</td>\n",
              "      <td>NaN</td>\n",
              "      <td>NaN</td>\n",
              "      <td>NaN</td>\n",
              "      <td>NaN</td>\n",
              "      <td>NaN</td>\n",
              "      <td>NaN</td>\n",
              "      <td>NaN</td>\n",
              "      <td>N</td>\n",
              "      <td>NaN</td>\n",
              "      <td>NaN</td>\n",
              "      <td>NaN</td>\n",
              "      <td>NaN</td>\n",
              "      <td>NaN</td>\n",
              "      <td>NaN</td>\n",
              "      <td>NaN</td>\n",
              "      <td>NaN</td>\n",
              "      <td>NaN</td>\n",
              "      <td>NaN</td>\n",
              "      <td>NaN</td>\n",
              "      <td>NaN</td>\n",
              "      <td>NaN</td>\n",
              "      <td>NaN</td>\n",
              "      <td>Cash</td>\n",
              "      <td>N</td>\n",
              "      <td>NaN</td>\n",
              "      <td>NaN</td>\n",
              "      <td>NaN</td>\n",
              "      <td>NaN</td>\n",
              "      <td>NaN</td>\n",
              "      <td>NaN</td>\n",
              "    </tr>\n",
              "    <tr>\n",
              "      <th>1</th>\n",
              "      <td>68355089</td>\n",
              "      <td>NaN</td>\n",
              "      <td>24700.0</td>\n",
              "      <td>24700.0</td>\n",
              "      <td>24700.0</td>\n",
              "      <td>36 months</td>\n",
              "      <td>11.99</td>\n",
              "      <td>820.28</td>\n",
              "      <td>C</td>\n",
              "      <td>C1</td>\n",
              "      <td>Engineer</td>\n",
              "      <td>10+ years</td>\n",
              "      <td>MORTGAGE</td>\n",
              "      <td>65000.0</td>\n",
              "      <td>Not Verified</td>\n",
              "      <td>Dec-2015</td>\n",
              "      <td>Fully Paid</td>\n",
              "      <td>n</td>\n",
              "      <td>https://lendingclub.com/browse/loanDetail.acti...</td>\n",
              "      <td>NaN</td>\n",
              "      <td>small_business</td>\n",
              "      <td>Business</td>\n",
              "      <td>577xx</td>\n",
              "      <td>SD</td>\n",
              "      <td>16.06</td>\n",
              "      <td>1.0</td>\n",
              "      <td>Dec-1999</td>\n",
              "      <td>715.0</td>\n",
              "      <td>719.0</td>\n",
              "      <td>4.0</td>\n",
              "      <td>6.0</td>\n",
              "      <td>NaN</td>\n",
              "      <td>22.0</td>\n",
              "      <td>0.0</td>\n",
              "      <td>21470.0</td>\n",
              "      <td>19.2</td>\n",
              "      <td>38.0</td>\n",
              "      <td>w</td>\n",
              "      <td>0.00</td>\n",
              "      <td>0.00</td>\n",
              "      <td>...</td>\n",
              "      <td>314017.0</td>\n",
              "      <td>39475.0</td>\n",
              "      <td>79300.0</td>\n",
              "      <td>24667.0</td>\n",
              "      <td>NaN</td>\n",
              "      <td>NaN</td>\n",
              "      <td>NaN</td>\n",
              "      <td>NaN</td>\n",
              "      <td>NaN</td>\n",
              "      <td>NaN</td>\n",
              "      <td>NaN</td>\n",
              "      <td>NaN</td>\n",
              "      <td>NaN</td>\n",
              "      <td>NaN</td>\n",
              "      <td>NaN</td>\n",
              "      <td>NaN</td>\n",
              "      <td>NaN</td>\n",
              "      <td>N</td>\n",
              "      <td>NaN</td>\n",
              "      <td>NaN</td>\n",
              "      <td>NaN</td>\n",
              "      <td>NaN</td>\n",
              "      <td>NaN</td>\n",
              "      <td>NaN</td>\n",
              "      <td>NaN</td>\n",
              "      <td>NaN</td>\n",
              "      <td>NaN</td>\n",
              "      <td>NaN</td>\n",
              "      <td>NaN</td>\n",
              "      <td>NaN</td>\n",
              "      <td>NaN</td>\n",
              "      <td>NaN</td>\n",
              "      <td>Cash</td>\n",
              "      <td>N</td>\n",
              "      <td>NaN</td>\n",
              "      <td>NaN</td>\n",
              "      <td>NaN</td>\n",
              "      <td>NaN</td>\n",
              "      <td>NaN</td>\n",
              "      <td>NaN</td>\n",
              "    </tr>\n",
              "    <tr>\n",
              "      <th>2</th>\n",
              "      <td>68341763</td>\n",
              "      <td>NaN</td>\n",
              "      <td>20000.0</td>\n",
              "      <td>20000.0</td>\n",
              "      <td>20000.0</td>\n",
              "      <td>60 months</td>\n",
              "      <td>10.78</td>\n",
              "      <td>432.66</td>\n",
              "      <td>B</td>\n",
              "      <td>B4</td>\n",
              "      <td>truck driver</td>\n",
              "      <td>10+ years</td>\n",
              "      <td>MORTGAGE</td>\n",
              "      <td>63000.0</td>\n",
              "      <td>Not Verified</td>\n",
              "      <td>Dec-2015</td>\n",
              "      <td>Fully Paid</td>\n",
              "      <td>n</td>\n",
              "      <td>https://lendingclub.com/browse/loanDetail.acti...</td>\n",
              "      <td>NaN</td>\n",
              "      <td>home_improvement</td>\n",
              "      <td>NaN</td>\n",
              "      <td>605xx</td>\n",
              "      <td>IL</td>\n",
              "      <td>10.78</td>\n",
              "      <td>0.0</td>\n",
              "      <td>Aug-2000</td>\n",
              "      <td>695.0</td>\n",
              "      <td>699.0</td>\n",
              "      <td>0.0</td>\n",
              "      <td>NaN</td>\n",
              "      <td>NaN</td>\n",
              "      <td>6.0</td>\n",
              "      <td>0.0</td>\n",
              "      <td>7869.0</td>\n",
              "      <td>56.2</td>\n",
              "      <td>18.0</td>\n",
              "      <td>w</td>\n",
              "      <td>0.00</td>\n",
              "      <td>0.00</td>\n",
              "      <td>...</td>\n",
              "      <td>218418.0</td>\n",
              "      <td>18696.0</td>\n",
              "      <td>6200.0</td>\n",
              "      <td>14877.0</td>\n",
              "      <td>NaN</td>\n",
              "      <td>NaN</td>\n",
              "      <td>NaN</td>\n",
              "      <td>NaN</td>\n",
              "      <td>NaN</td>\n",
              "      <td>NaN</td>\n",
              "      <td>NaN</td>\n",
              "      <td>NaN</td>\n",
              "      <td>NaN</td>\n",
              "      <td>NaN</td>\n",
              "      <td>NaN</td>\n",
              "      <td>NaN</td>\n",
              "      <td>NaN</td>\n",
              "      <td>N</td>\n",
              "      <td>NaN</td>\n",
              "      <td>NaN</td>\n",
              "      <td>NaN</td>\n",
              "      <td>NaN</td>\n",
              "      <td>NaN</td>\n",
              "      <td>NaN</td>\n",
              "      <td>NaN</td>\n",
              "      <td>NaN</td>\n",
              "      <td>NaN</td>\n",
              "      <td>NaN</td>\n",
              "      <td>NaN</td>\n",
              "      <td>NaN</td>\n",
              "      <td>NaN</td>\n",
              "      <td>NaN</td>\n",
              "      <td>Cash</td>\n",
              "      <td>N</td>\n",
              "      <td>NaN</td>\n",
              "      <td>NaN</td>\n",
              "      <td>NaN</td>\n",
              "      <td>NaN</td>\n",
              "      <td>NaN</td>\n",
              "      <td>NaN</td>\n",
              "    </tr>\n",
              "    <tr>\n",
              "      <th>3</th>\n",
              "      <td>66310712</td>\n",
              "      <td>NaN</td>\n",
              "      <td>35000.0</td>\n",
              "      <td>35000.0</td>\n",
              "      <td>35000.0</td>\n",
              "      <td>60 months</td>\n",
              "      <td>14.85</td>\n",
              "      <td>829.90</td>\n",
              "      <td>C</td>\n",
              "      <td>C5</td>\n",
              "      <td>Information Systems Officer</td>\n",
              "      <td>10+ years</td>\n",
              "      <td>MORTGAGE</td>\n",
              "      <td>110000.0</td>\n",
              "      <td>Source Verified</td>\n",
              "      <td>Dec-2015</td>\n",
              "      <td>Current</td>\n",
              "      <td>n</td>\n",
              "      <td>https://lendingclub.com/browse/loanDetail.acti...</td>\n",
              "      <td>NaN</td>\n",
              "      <td>debt_consolidation</td>\n",
              "      <td>Debt consolidation</td>\n",
              "      <td>076xx</td>\n",
              "      <td>NJ</td>\n",
              "      <td>17.06</td>\n",
              "      <td>0.0</td>\n",
              "      <td>Sep-2008</td>\n",
              "      <td>785.0</td>\n",
              "      <td>789.0</td>\n",
              "      <td>0.0</td>\n",
              "      <td>NaN</td>\n",
              "      <td>NaN</td>\n",
              "      <td>13.0</td>\n",
              "      <td>0.0</td>\n",
              "      <td>7802.0</td>\n",
              "      <td>11.6</td>\n",
              "      <td>17.0</td>\n",
              "      <td>w</td>\n",
              "      <td>15897.65</td>\n",
              "      <td>15897.65</td>\n",
              "      <td>...</td>\n",
              "      <td>381215.0</td>\n",
              "      <td>52226.0</td>\n",
              "      <td>62500.0</td>\n",
              "      <td>18000.0</td>\n",
              "      <td>NaN</td>\n",
              "      <td>NaN</td>\n",
              "      <td>NaN</td>\n",
              "      <td>NaN</td>\n",
              "      <td>NaN</td>\n",
              "      <td>NaN</td>\n",
              "      <td>NaN</td>\n",
              "      <td>NaN</td>\n",
              "      <td>NaN</td>\n",
              "      <td>NaN</td>\n",
              "      <td>NaN</td>\n",
              "      <td>NaN</td>\n",
              "      <td>NaN</td>\n",
              "      <td>N</td>\n",
              "      <td>NaN</td>\n",
              "      <td>NaN</td>\n",
              "      <td>NaN</td>\n",
              "      <td>NaN</td>\n",
              "      <td>NaN</td>\n",
              "      <td>NaN</td>\n",
              "      <td>NaN</td>\n",
              "      <td>NaN</td>\n",
              "      <td>NaN</td>\n",
              "      <td>NaN</td>\n",
              "      <td>NaN</td>\n",
              "      <td>NaN</td>\n",
              "      <td>NaN</td>\n",
              "      <td>NaN</td>\n",
              "      <td>Cash</td>\n",
              "      <td>N</td>\n",
              "      <td>NaN</td>\n",
              "      <td>NaN</td>\n",
              "      <td>NaN</td>\n",
              "      <td>NaN</td>\n",
              "      <td>NaN</td>\n",
              "      <td>NaN</td>\n",
              "    </tr>\n",
              "    <tr>\n",
              "      <th>4</th>\n",
              "      <td>68476807</td>\n",
              "      <td>NaN</td>\n",
              "      <td>10400.0</td>\n",
              "      <td>10400.0</td>\n",
              "      <td>10400.0</td>\n",
              "      <td>60 months</td>\n",
              "      <td>22.45</td>\n",
              "      <td>289.91</td>\n",
              "      <td>F</td>\n",
              "      <td>F1</td>\n",
              "      <td>Contract Specialist</td>\n",
              "      <td>3 years</td>\n",
              "      <td>MORTGAGE</td>\n",
              "      <td>104433.0</td>\n",
              "      <td>Source Verified</td>\n",
              "      <td>Dec-2015</td>\n",
              "      <td>Fully Paid</td>\n",
              "      <td>n</td>\n",
              "      <td>https://lendingclub.com/browse/loanDetail.acti...</td>\n",
              "      <td>NaN</td>\n",
              "      <td>major_purchase</td>\n",
              "      <td>Major purchase</td>\n",
              "      <td>174xx</td>\n",
              "      <td>PA</td>\n",
              "      <td>25.37</td>\n",
              "      <td>1.0</td>\n",
              "      <td>Jun-1998</td>\n",
              "      <td>695.0</td>\n",
              "      <td>699.0</td>\n",
              "      <td>3.0</td>\n",
              "      <td>12.0</td>\n",
              "      <td>NaN</td>\n",
              "      <td>12.0</td>\n",
              "      <td>0.0</td>\n",
              "      <td>21929.0</td>\n",
              "      <td>64.5</td>\n",
              "      <td>35.0</td>\n",
              "      <td>w</td>\n",
              "      <td>0.00</td>\n",
              "      <td>0.00</td>\n",
              "      <td>...</td>\n",
              "      <td>439570.0</td>\n",
              "      <td>95768.0</td>\n",
              "      <td>20300.0</td>\n",
              "      <td>88097.0</td>\n",
              "      <td>NaN</td>\n",
              "      <td>NaN</td>\n",
              "      <td>NaN</td>\n",
              "      <td>NaN</td>\n",
              "      <td>NaN</td>\n",
              "      <td>NaN</td>\n",
              "      <td>NaN</td>\n",
              "      <td>NaN</td>\n",
              "      <td>NaN</td>\n",
              "      <td>NaN</td>\n",
              "      <td>NaN</td>\n",
              "      <td>NaN</td>\n",
              "      <td>NaN</td>\n",
              "      <td>N</td>\n",
              "      <td>NaN</td>\n",
              "      <td>NaN</td>\n",
              "      <td>NaN</td>\n",
              "      <td>NaN</td>\n",
              "      <td>NaN</td>\n",
              "      <td>NaN</td>\n",
              "      <td>NaN</td>\n",
              "      <td>NaN</td>\n",
              "      <td>NaN</td>\n",
              "      <td>NaN</td>\n",
              "      <td>NaN</td>\n",
              "      <td>NaN</td>\n",
              "      <td>NaN</td>\n",
              "      <td>NaN</td>\n",
              "      <td>Cash</td>\n",
              "      <td>N</td>\n",
              "      <td>NaN</td>\n",
              "      <td>NaN</td>\n",
              "      <td>NaN</td>\n",
              "      <td>NaN</td>\n",
              "      <td>NaN</td>\n",
              "      <td>NaN</td>\n",
              "    </tr>\n",
              "  </tbody>\n",
              "</table>\n",
              "<p>5 rows × 151 columns</p>\n",
              "</div>"
            ],
            "text/plain": [
              "         id  member_id  ...  settlement_percentage  settlement_term\n",
              "0  68407277        NaN  ...                    NaN              NaN\n",
              "1  68355089        NaN  ...                    NaN              NaN\n",
              "2  68341763        NaN  ...                    NaN              NaN\n",
              "3  66310712        NaN  ...                    NaN              NaN\n",
              "4  68476807        NaN  ...                    NaN              NaN\n",
              "\n",
              "[5 rows x 151 columns]"
            ]
          },
          "metadata": {
            "tags": []
          },
          "execution_count": 4
        }
      ]
    },
    {
      "cell_type": "code",
      "metadata": {
        "id": "gLpuUmyWiTop",
        "colab": {
          "base_uri": "https://localhost:8080/"
        },
        "outputId": "9fc5d9ab-dcfc-406f-dee0-92285428e186"
      },
      "source": [
        "accepted.columns"
      ],
      "execution_count": null,
      "outputs": [
        {
          "output_type": "execute_result",
          "data": {
            "text/plain": [
              "Index(['id', 'member_id', 'loan_amnt', 'funded_amnt', 'funded_amnt_inv',\n",
              "       'term', 'int_rate', 'installment', 'grade', 'sub_grade',\n",
              "       ...\n",
              "       'hardship_payoff_balance_amount', 'hardship_last_payment_amount',\n",
              "       'disbursement_method', 'debt_settlement_flag',\n",
              "       'debt_settlement_flag_date', 'settlement_status', 'settlement_date',\n",
              "       'settlement_amount', 'settlement_percentage', 'settlement_term'],\n",
              "      dtype='object', length=151)"
            ]
          },
          "metadata": {
            "tags": []
          },
          "execution_count": 5
        }
      ]
    },
    {
      "cell_type": "code",
      "metadata": {
        "id": "8X3N0fQjiTor",
        "colab": {
          "base_uri": "https://localhost:8080/"
        },
        "outputId": "96c99442-8226-4285-998e-7a4d9579db47"
      },
      "source": [
        "accepted.info"
      ],
      "execution_count": null,
      "outputs": [
        {
          "output_type": "execute_result",
          "data": {
            "text/plain": [
              "<bound method DataFrame.info of              id  member_id  ...  settlement_percentage  settlement_term\n",
              "0      68407277        NaN  ...                    NaN              NaN\n",
              "1      68355089        NaN  ...                    NaN              NaN\n",
              "2      68341763        NaN  ...                    NaN              NaN\n",
              "3      66310712        NaN  ...                    NaN              NaN\n",
              "4      68476807        NaN  ...                    NaN              NaN\n",
              "...         ...        ...  ...                    ...              ...\n",
              "11207  67666082        NaN  ...                    NaN              NaN\n",
              "11208  67636085        NaN  ...                    NaN              NaN\n",
              "11209  67695937        NaN  ...                    NaN              NaN\n",
              "11210  67516066        NaN  ...                    NaN              NaN\n",
              "11211  67666116        NaN  ...                    NaN              NaN\n",
              "\n",
              "[11212 rows x 151 columns]>"
            ]
          },
          "metadata": {
            "tags": []
          },
          "execution_count": 6
        }
      ]
    },
    {
      "cell_type": "code",
      "metadata": {
        "id": "O5wTL5XiiTos",
        "colab": {
          "base_uri": "https://localhost:8080/",
          "height": 344
        },
        "outputId": "c4e6a00d-db3a-4e77-b4ef-878002f0af33"
      },
      "source": [
        "accepted.describe()"
      ],
      "execution_count": null,
      "outputs": [
        {
          "output_type": "execute_result",
          "data": {
            "text/html": [
              "<div>\n",
              "<style scoped>\n",
              "    .dataframe tbody tr th:only-of-type {\n",
              "        vertical-align: middle;\n",
              "    }\n",
              "\n",
              "    .dataframe tbody tr th {\n",
              "        vertical-align: top;\n",
              "    }\n",
              "\n",
              "    .dataframe thead th {\n",
              "        text-align: right;\n",
              "    }\n",
              "</style>\n",
              "<table border=\"1\" class=\"dataframe\">\n",
              "  <thead>\n",
              "    <tr style=\"text-align: right;\">\n",
              "      <th></th>\n",
              "      <th>id</th>\n",
              "      <th>member_id</th>\n",
              "      <th>loan_amnt</th>\n",
              "      <th>funded_amnt</th>\n",
              "      <th>funded_amnt_inv</th>\n",
              "      <th>int_rate</th>\n",
              "      <th>installment</th>\n",
              "      <th>annual_inc</th>\n",
              "      <th>dti</th>\n",
              "      <th>delinq_2yrs</th>\n",
              "      <th>fico_range_low</th>\n",
              "      <th>fico_range_high</th>\n",
              "      <th>inq_last_6mths</th>\n",
              "      <th>mths_since_last_delinq</th>\n",
              "      <th>mths_since_last_record</th>\n",
              "      <th>open_acc</th>\n",
              "      <th>pub_rec</th>\n",
              "      <th>revol_bal</th>\n",
              "      <th>revol_util</th>\n",
              "      <th>total_acc</th>\n",
              "      <th>out_prncp</th>\n",
              "      <th>out_prncp_inv</th>\n",
              "      <th>total_pymnt</th>\n",
              "      <th>total_pymnt_inv</th>\n",
              "      <th>total_rec_prncp</th>\n",
              "      <th>total_rec_int</th>\n",
              "      <th>total_rec_late_fee</th>\n",
              "      <th>recoveries</th>\n",
              "      <th>collection_recovery_fee</th>\n",
              "      <th>last_pymnt_amnt</th>\n",
              "      <th>last_fico_range_high</th>\n",
              "      <th>last_fico_range_low</th>\n",
              "      <th>collections_12_mths_ex_med</th>\n",
              "      <th>mths_since_last_major_derog</th>\n",
              "      <th>policy_code</th>\n",
              "      <th>annual_inc_joint</th>\n",
              "      <th>dti_joint</th>\n",
              "      <th>acc_now_delinq</th>\n",
              "      <th>tot_coll_amt</th>\n",
              "      <th>tot_cur_bal</th>\n",
              "      <th>...</th>\n",
              "      <th>num_il_tl</th>\n",
              "      <th>num_op_rev_tl</th>\n",
              "      <th>num_rev_accts</th>\n",
              "      <th>num_rev_tl_bal_gt_0</th>\n",
              "      <th>num_sats</th>\n",
              "      <th>num_tl_120dpd_2m</th>\n",
              "      <th>num_tl_30dpd</th>\n",
              "      <th>num_tl_90g_dpd_24m</th>\n",
              "      <th>num_tl_op_past_12m</th>\n",
              "      <th>pct_tl_nvr_dlq</th>\n",
              "      <th>percent_bc_gt_75</th>\n",
              "      <th>pub_rec_bankruptcies</th>\n",
              "      <th>tax_liens</th>\n",
              "      <th>tot_hi_cred_lim</th>\n",
              "      <th>total_bal_ex_mort</th>\n",
              "      <th>total_bc_limit</th>\n",
              "      <th>total_il_high_credit_limit</th>\n",
              "      <th>revol_bal_joint</th>\n",
              "      <th>sec_app_fico_range_low</th>\n",
              "      <th>sec_app_fico_range_high</th>\n",
              "      <th>sec_app_earliest_cr_line</th>\n",
              "      <th>sec_app_inq_last_6mths</th>\n",
              "      <th>sec_app_mort_acc</th>\n",
              "      <th>sec_app_open_acc</th>\n",
              "      <th>sec_app_revol_util</th>\n",
              "      <th>sec_app_open_act_il</th>\n",
              "      <th>sec_app_num_rev_accts</th>\n",
              "      <th>sec_app_chargeoff_within_12_mths</th>\n",
              "      <th>sec_app_collections_12_mths_ex_med</th>\n",
              "      <th>sec_app_mths_since_last_major_derog</th>\n",
              "      <th>deferral_term</th>\n",
              "      <th>hardship_amount</th>\n",
              "      <th>hardship_length</th>\n",
              "      <th>hardship_dpd</th>\n",
              "      <th>orig_projected_additional_accrued_interest</th>\n",
              "      <th>hardship_payoff_balance_amount</th>\n",
              "      <th>hardship_last_payment_amount</th>\n",
              "      <th>settlement_amount</th>\n",
              "      <th>settlement_percentage</th>\n",
              "      <th>settlement_term</th>\n",
              "    </tr>\n",
              "  </thead>\n",
              "  <tbody>\n",
              "    <tr>\n",
              "      <th>count</th>\n",
              "      <td>1.121200e+04</td>\n",
              "      <td>0.0</td>\n",
              "      <td>11212.000000</td>\n",
              "      <td>11212.000000</td>\n",
              "      <td>11212.000000</td>\n",
              "      <td>11212.000000</td>\n",
              "      <td>11212.000000</td>\n",
              "      <td>1.121200e+04</td>\n",
              "      <td>11212.000000</td>\n",
              "      <td>11212.000000</td>\n",
              "      <td>11212.000000</td>\n",
              "      <td>11212.000000</td>\n",
              "      <td>11212.000000</td>\n",
              "      <td>5810.000000</td>\n",
              "      <td>2010.000000</td>\n",
              "      <td>11212.000000</td>\n",
              "      <td>11212.000000</td>\n",
              "      <td>11212.000000</td>\n",
              "      <td>11207.000000</td>\n",
              "      <td>11212.000000</td>\n",
              "      <td>11212.000000</td>\n",
              "      <td>11212.000000</td>\n",
              "      <td>11212.000000</td>\n",
              "      <td>11212.000000</td>\n",
              "      <td>11212.000000</td>\n",
              "      <td>11212.000000</td>\n",
              "      <td>11212.000000</td>\n",
              "      <td>11212.000000</td>\n",
              "      <td>11212.000000</td>\n",
              "      <td>11212.000000</td>\n",
              "      <td>11212.000000</td>\n",
              "      <td>11212.000000</td>\n",
              "      <td>11212.000000</td>\n",
              "      <td>3273.000000</td>\n",
              "      <td>11212.0</td>\n",
              "      <td>82.000000</td>\n",
              "      <td>82.000000</td>\n",
              "      <td>11211.000000</td>\n",
              "      <td>11211.000000</td>\n",
              "      <td>1.121100e+04</td>\n",
              "      <td>...</td>\n",
              "      <td>11211.000000</td>\n",
              "      <td>11211.000000</td>\n",
              "      <td>11211.000000</td>\n",
              "      <td>11211.000000</td>\n",
              "      <td>11211.000000</td>\n",
              "      <td>10612.000000</td>\n",
              "      <td>11211.000000</td>\n",
              "      <td>11211.000000</td>\n",
              "      <td>11211.000000</td>\n",
              "      <td>11211.000000</td>\n",
              "      <td>11098.000000</td>\n",
              "      <td>11211.000000</td>\n",
              "      <td>11211.000000</td>\n",
              "      <td>1.121100e+04</td>\n",
              "      <td>11211.000000</td>\n",
              "      <td>11211.000000</td>\n",
              "      <td>11211.000000</td>\n",
              "      <td>0.0</td>\n",
              "      <td>0.0</td>\n",
              "      <td>0.0</td>\n",
              "      <td>0.0</td>\n",
              "      <td>0.0</td>\n",
              "      <td>0.0</td>\n",
              "      <td>0.0</td>\n",
              "      <td>0.0</td>\n",
              "      <td>0.0</td>\n",
              "      <td>0.0</td>\n",
              "      <td>0.0</td>\n",
              "      <td>0.0</td>\n",
              "      <td>0.0</td>\n",
              "      <td>92.0</td>\n",
              "      <td>92.000000</td>\n",
              "      <td>92.0</td>\n",
              "      <td>92.000000</td>\n",
              "      <td>72.000000</td>\n",
              "      <td>92.000000</td>\n",
              "      <td>92.000000</td>\n",
              "      <td>315.000000</td>\n",
              "      <td>315.000000</td>\n",
              "      <td>315.000000</td>\n",
              "    </tr>\n",
              "    <tr>\n",
              "      <th>mean</th>\n",
              "      <td>6.799199e+07</td>\n",
              "      <td>NaN</td>\n",
              "      <td>15073.184980</td>\n",
              "      <td>15073.184980</td>\n",
              "      <td>15069.044328</td>\n",
              "      <td>12.275101</td>\n",
              "      <td>439.801314</td>\n",
              "      <td>7.870799e+04</td>\n",
              "      <td>19.445148</td>\n",
              "      <td>0.340617</td>\n",
              "      <td>695.807617</td>\n",
              "      <td>699.807706</td>\n",
              "      <td>0.623350</td>\n",
              "      <td>34.122031</td>\n",
              "      <td>65.684080</td>\n",
              "      <td>12.304674</td>\n",
              "      <td>0.235730</td>\n",
              "      <td>17432.862736</td>\n",
              "      <td>50.974320</td>\n",
              "      <td>25.934534</td>\n",
              "      <td>962.102810</td>\n",
              "      <td>961.810054</td>\n",
              "      <td>15167.328159</td>\n",
              "      <td>15163.325928</td>\n",
              "      <td>12193.008408</td>\n",
              "      <td>2742.444843</td>\n",
              "      <td>2.062199</td>\n",
              "      <td>229.812686</td>\n",
              "      <td>40.798738</td>\n",
              "      <td>4355.852995</td>\n",
              "      <td>679.769443</td>\n",
              "      <td>664.202640</td>\n",
              "      <td>0.023279</td>\n",
              "      <td>44.684387</td>\n",
              "      <td>1.0</td>\n",
              "      <td>113449.228780</td>\n",
              "      <td>18.636585</td>\n",
              "      <td>0.004638</td>\n",
              "      <td>265.521363</td>\n",
              "      <td>1.457926e+05</td>\n",
              "      <td>...</td>\n",
              "      <td>9.005084</td>\n",
              "      <td>8.595665</td>\n",
              "      <td>14.973241</td>\n",
              "      <td>5.761752</td>\n",
              "      <td>12.250557</td>\n",
              "      <td>0.000377</td>\n",
              "      <td>0.002944</td>\n",
              "      <td>0.088931</td>\n",
              "      <td>2.338953</td>\n",
              "      <td>94.047355</td>\n",
              "      <td>43.619355</td>\n",
              "      <td>0.133351</td>\n",
              "      <td>0.069485</td>\n",
              "      <td>1.815265e+05</td>\n",
              "      <td>54806.072786</td>\n",
              "      <td>23309.023637</td>\n",
              "      <td>46810.037463</td>\n",
              "      <td>NaN</td>\n",
              "      <td>NaN</td>\n",
              "      <td>NaN</td>\n",
              "      <td>NaN</td>\n",
              "      <td>NaN</td>\n",
              "      <td>NaN</td>\n",
              "      <td>NaN</td>\n",
              "      <td>NaN</td>\n",
              "      <td>NaN</td>\n",
              "      <td>NaN</td>\n",
              "      <td>NaN</td>\n",
              "      <td>NaN</td>\n",
              "      <td>NaN</td>\n",
              "      <td>3.0</td>\n",
              "      <td>137.623587</td>\n",
              "      <td>3.0</td>\n",
              "      <td>12.750000</td>\n",
              "      <td>431.456667</td>\n",
              "      <td>10941.286630</td>\n",
              "      <td>176.168370</td>\n",
              "      <td>4924.525810</td>\n",
              "      <td>47.098667</td>\n",
              "      <td>13.742857</td>\n",
              "    </tr>\n",
              "    <tr>\n",
              "      <th>std</th>\n",
              "      <td>1.975298e+06</td>\n",
              "      <td>NaN</td>\n",
              "      <td>8722.385701</td>\n",
              "      <td>8722.385701</td>\n",
              "      <td>8719.004062</td>\n",
              "      <td>4.286079</td>\n",
              "      <td>250.883389</td>\n",
              "      <td>6.599787e+04</td>\n",
              "      <td>12.770962</td>\n",
              "      <td>0.892000</td>\n",
              "      <td>31.501270</td>\n",
              "      <td>31.501694</td>\n",
              "      <td>0.902845</td>\n",
              "      <td>21.938428</td>\n",
              "      <td>23.650184</td>\n",
              "      <td>5.877979</td>\n",
              "      <td>0.646375</td>\n",
              "      <td>22089.082057</td>\n",
              "      <td>24.218709</td>\n",
              "      <td>12.285196</td>\n",
              "      <td>3003.916463</td>\n",
              "      <td>3002.875645</td>\n",
              "      <td>9815.649586</td>\n",
              "      <td>9812.112398</td>\n",
              "      <td>8419.064918</td>\n",
              "      <td>2788.301576</td>\n",
              "      <td>13.256528</td>\n",
              "      <td>983.408236</td>\n",
              "      <td>176.247195</td>\n",
              "      <td>6526.893175</td>\n",
              "      <td>79.082052</td>\n",
              "      <td>126.602465</td>\n",
              "      <td>0.160535</td>\n",
              "      <td>21.383655</td>\n",
              "      <td>0.0</td>\n",
              "      <td>57414.290233</td>\n",
              "      <td>6.860602</td>\n",
              "      <td>0.069250</td>\n",
              "      <td>2049.458982</td>\n",
              "      <td>1.567331e+05</td>\n",
              "      <td>...</td>\n",
              "      <td>7.657969</td>\n",
              "      <td>4.872213</td>\n",
              "      <td>8.449461</td>\n",
              "      <td>3.371612</td>\n",
              "      <td>5.855098</td>\n",
              "      <td>0.019412</td>\n",
              "      <td>0.055799</td>\n",
              "      <td>0.499093</td>\n",
              "      <td>1.977617</td>\n",
              "      <td>8.695424</td>\n",
              "      <td>36.180747</td>\n",
              "      <td>0.381980</td>\n",
              "      <td>0.460856</td>\n",
              "      <td>1.742288e+05</td>\n",
              "      <td>50589.618653</td>\n",
              "      <td>23275.931499</td>\n",
              "      <td>45958.451863</td>\n",
              "      <td>NaN</td>\n",
              "      <td>NaN</td>\n",
              "      <td>NaN</td>\n",
              "      <td>NaN</td>\n",
              "      <td>NaN</td>\n",
              "      <td>NaN</td>\n",
              "      <td>NaN</td>\n",
              "      <td>NaN</td>\n",
              "      <td>NaN</td>\n",
              "      <td>NaN</td>\n",
              "      <td>NaN</td>\n",
              "      <td>NaN</td>\n",
              "      <td>NaN</td>\n",
              "      <td>0.0</td>\n",
              "      <td>122.728785</td>\n",
              "      <td>0.0</td>\n",
              "      <td>9.850113</td>\n",
              "      <td>361.553534</td>\n",
              "      <td>7019.716473</td>\n",
              "      <td>190.269528</td>\n",
              "      <td>3591.698042</td>\n",
              "      <td>5.107359</td>\n",
              "      <td>7.401190</td>\n",
              "    </tr>\n",
              "    <tr>\n",
              "      <th>min</th>\n",
              "      <td>3.617740e+05</td>\n",
              "      <td>NaN</td>\n",
              "      <td>1000.000000</td>\n",
              "      <td>1000.000000</td>\n",
              "      <td>1000.000000</td>\n",
              "      <td>5.320000</td>\n",
              "      <td>30.540000</td>\n",
              "      <td>1.770000e+03</td>\n",
              "      <td>0.000000</td>\n",
              "      <td>0.000000</td>\n",
              "      <td>660.000000</td>\n",
              "      <td>664.000000</td>\n",
              "      <td>0.000000</td>\n",
              "      <td>0.000000</td>\n",
              "      <td>0.000000</td>\n",
              "      <td>1.000000</td>\n",
              "      <td>0.000000</td>\n",
              "      <td>0.000000</td>\n",
              "      <td>0.000000</td>\n",
              "      <td>4.000000</td>\n",
              "      <td>0.000000</td>\n",
              "      <td>0.000000</td>\n",
              "      <td>0.000000</td>\n",
              "      <td>0.000000</td>\n",
              "      <td>0.000000</td>\n",
              "      <td>0.000000</td>\n",
              "      <td>0.000000</td>\n",
              "      <td>0.000000</td>\n",
              "      <td>0.000000</td>\n",
              "      <td>0.000000</td>\n",
              "      <td>0.000000</td>\n",
              "      <td>0.000000</td>\n",
              "      <td>0.000000</td>\n",
              "      <td>0.000000</td>\n",
              "      <td>1.0</td>\n",
              "      <td>44500.000000</td>\n",
              "      <td>3.010000</td>\n",
              "      <td>0.000000</td>\n",
              "      <td>0.000000</td>\n",
              "      <td>0.000000e+00</td>\n",
              "      <td>...</td>\n",
              "      <td>0.000000</td>\n",
              "      <td>0.000000</td>\n",
              "      <td>2.000000</td>\n",
              "      <td>0.000000</td>\n",
              "      <td>1.000000</td>\n",
              "      <td>0.000000</td>\n",
              "      <td>0.000000</td>\n",
              "      <td>0.000000</td>\n",
              "      <td>0.000000</td>\n",
              "      <td>35.000000</td>\n",
              "      <td>0.000000</td>\n",
              "      <td>0.000000</td>\n",
              "      <td>0.000000</td>\n",
              "      <td>2.700000e+03</td>\n",
              "      <td>0.000000</td>\n",
              "      <td>0.000000</td>\n",
              "      <td>0.000000</td>\n",
              "      <td>NaN</td>\n",
              "      <td>NaN</td>\n",
              "      <td>NaN</td>\n",
              "      <td>NaN</td>\n",
              "      <td>NaN</td>\n",
              "      <td>NaN</td>\n",
              "      <td>NaN</td>\n",
              "      <td>NaN</td>\n",
              "      <td>NaN</td>\n",
              "      <td>NaN</td>\n",
              "      <td>NaN</td>\n",
              "      <td>NaN</td>\n",
              "      <td>NaN</td>\n",
              "      <td>3.0</td>\n",
              "      <td>5.280000</td>\n",
              "      <td>3.0</td>\n",
              "      <td>0.000000</td>\n",
              "      <td>33.840000</td>\n",
              "      <td>594.070000</td>\n",
              "      <td>0.060000</td>\n",
              "      <td>250.000000</td>\n",
              "      <td>30.000000</td>\n",
              "      <td>0.000000</td>\n",
              "    </tr>\n",
              "    <tr>\n",
              "      <th>25%</th>\n",
              "      <td>6.785838e+07</td>\n",
              "      <td>NaN</td>\n",
              "      <td>8000.000000</td>\n",
              "      <td>8000.000000</td>\n",
              "      <td>8000.000000</td>\n",
              "      <td>9.170000</td>\n",
              "      <td>255.040000</td>\n",
              "      <td>4.871500e+04</td>\n",
              "      <td>12.750000</td>\n",
              "      <td>0.000000</td>\n",
              "      <td>670.000000</td>\n",
              "      <td>674.000000</td>\n",
              "      <td>0.000000</td>\n",
              "      <td>15.000000</td>\n",
              "      <td>51.000000</td>\n",
              "      <td>8.000000</td>\n",
              "      <td>0.000000</td>\n",
              "      <td>6277.750000</td>\n",
              "      <td>32.600000</td>\n",
              "      <td>17.000000</td>\n",
              "      <td>0.000000</td>\n",
              "      <td>0.000000</td>\n",
              "      <td>7423.023366</td>\n",
              "      <td>7422.385000</td>\n",
              "      <td>5868.775000</td>\n",
              "      <td>880.395000</td>\n",
              "      <td>0.000000</td>\n",
              "      <td>0.000000</td>\n",
              "      <td>0.000000</td>\n",
              "      <td>343.250000</td>\n",
              "      <td>634.000000</td>\n",
              "      <td>630.000000</td>\n",
              "      <td>0.000000</td>\n",
              "      <td>28.000000</td>\n",
              "      <td>1.0</td>\n",
              "      <td>82250.000000</td>\n",
              "      <td>14.060000</td>\n",
              "      <td>0.000000</td>\n",
              "      <td>0.000000</td>\n",
              "      <td>3.296500e+04</td>\n",
              "      <td>...</td>\n",
              "      <td>4.000000</td>\n",
              "      <td>5.000000</td>\n",
              "      <td>9.000000</td>\n",
              "      <td>3.000000</td>\n",
              "      <td>8.000000</td>\n",
              "      <td>0.000000</td>\n",
              "      <td>0.000000</td>\n",
              "      <td>0.000000</td>\n",
              "      <td>1.000000</td>\n",
              "      <td>91.100000</td>\n",
              "      <td>0.000000</td>\n",
              "      <td>0.000000</td>\n",
              "      <td>0.000000</td>\n",
              "      <td>5.505900e+04</td>\n",
              "      <td>23843.500000</td>\n",
              "      <td>8300.000000</td>\n",
              "      <td>17440.500000</td>\n",
              "      <td>NaN</td>\n",
              "      <td>NaN</td>\n",
              "      <td>NaN</td>\n",
              "      <td>NaN</td>\n",
              "      <td>NaN</td>\n",
              "      <td>NaN</td>\n",
              "      <td>NaN</td>\n",
              "      <td>NaN</td>\n",
              "      <td>NaN</td>\n",
              "      <td>NaN</td>\n",
              "      <td>NaN</td>\n",
              "      <td>NaN</td>\n",
              "      <td>NaN</td>\n",
              "      <td>3.0</td>\n",
              "      <td>47.362500</td>\n",
              "      <td>3.0</td>\n",
              "      <td>0.000000</td>\n",
              "      <td>162.337500</td>\n",
              "      <td>5443.747500</td>\n",
              "      <td>40.972500</td>\n",
              "      <td>2045.000000</td>\n",
              "      <td>45.000000</td>\n",
              "      <td>8.000000</td>\n",
              "    </tr>\n",
              "    <tr>\n",
              "      <th>50%</th>\n",
              "      <td>6.811299e+07</td>\n",
              "      <td>NaN</td>\n",
              "      <td>14000.000000</td>\n",
              "      <td>14000.000000</td>\n",
              "      <td>14000.000000</td>\n",
              "      <td>11.990000</td>\n",
              "      <td>383.320000</td>\n",
              "      <td>6.800000e+04</td>\n",
              "      <td>18.800000</td>\n",
              "      <td>0.000000</td>\n",
              "      <td>690.000000</td>\n",
              "      <td>694.000000</td>\n",
              "      <td>0.000000</td>\n",
              "      <td>31.000000</td>\n",
              "      <td>68.000000</td>\n",
              "      <td>11.000000</td>\n",
              "      <td>0.000000</td>\n",
              "      <td>11948.000000</td>\n",
              "      <td>50.900000</td>\n",
              "      <td>24.000000</td>\n",
              "      <td>0.000000</td>\n",
              "      <td>0.000000</td>\n",
              "      <td>12906.120240</td>\n",
              "      <td>12905.625000</td>\n",
              "      <td>10000.000000</td>\n",
              "      <td>1778.225000</td>\n",
              "      <td>0.000000</td>\n",
              "      <td>0.000000</td>\n",
              "      <td>0.000000</td>\n",
              "      <td>810.160000</td>\n",
              "      <td>694.000000</td>\n",
              "      <td>690.000000</td>\n",
              "      <td>0.000000</td>\n",
              "      <td>44.000000</td>\n",
              "      <td>1.0</td>\n",
              "      <td>100000.000000</td>\n",
              "      <td>17.495000</td>\n",
              "      <td>0.000000</td>\n",
              "      <td>0.000000</td>\n",
              "      <td>8.935200e+04</td>\n",
              "      <td>...</td>\n",
              "      <td>7.000000</td>\n",
              "      <td>8.000000</td>\n",
              "      <td>13.000000</td>\n",
              "      <td>5.000000</td>\n",
              "      <td>11.000000</td>\n",
              "      <td>0.000000</td>\n",
              "      <td>0.000000</td>\n",
              "      <td>0.000000</td>\n",
              "      <td>2.000000</td>\n",
              "      <td>97.400000</td>\n",
              "      <td>40.000000</td>\n",
              "      <td>0.000000</td>\n",
              "      <td>0.000000</td>\n",
              "      <td>1.220990e+05</td>\n",
              "      <td>41679.000000</td>\n",
              "      <td>16300.000000</td>\n",
              "      <td>35624.000000</td>\n",
              "      <td>NaN</td>\n",
              "      <td>NaN</td>\n",
              "      <td>NaN</td>\n",
              "      <td>NaN</td>\n",
              "      <td>NaN</td>\n",
              "      <td>NaN</td>\n",
              "      <td>NaN</td>\n",
              "      <td>NaN</td>\n",
              "      <td>NaN</td>\n",
              "      <td>NaN</td>\n",
              "      <td>NaN</td>\n",
              "      <td>NaN</td>\n",
              "      <td>NaN</td>\n",
              "      <td>3.0</td>\n",
              "      <td>92.825000</td>\n",
              "      <td>3.0</td>\n",
              "      <td>13.000000</td>\n",
              "      <td>384.405000</td>\n",
              "      <td>9329.220000</td>\n",
              "      <td>102.380000</td>\n",
              "      <td>4152.000000</td>\n",
              "      <td>45.000000</td>\n",
              "      <td>14.000000</td>\n",
              "    </tr>\n",
              "    <tr>\n",
              "      <th>75%</th>\n",
              "      <td>6.844532e+07</td>\n",
              "      <td>NaN</td>\n",
              "      <td>20000.000000</td>\n",
              "      <td>20000.000000</td>\n",
              "      <td>20000.000000</td>\n",
              "      <td>14.850000</td>\n",
              "      <td>584.880000</td>\n",
              "      <td>9.500000e+04</td>\n",
              "      <td>25.540000</td>\n",
              "      <td>0.000000</td>\n",
              "      <td>710.000000</td>\n",
              "      <td>714.000000</td>\n",
              "      <td>1.000000</td>\n",
              "      <td>50.000000</td>\n",
              "      <td>81.000000</td>\n",
              "      <td>15.000000</td>\n",
              "      <td>0.000000</td>\n",
              "      <td>21298.000000</td>\n",
              "      <td>69.400000</td>\n",
              "      <td>33.000000</td>\n",
              "      <td>0.000000</td>\n",
              "      <td>0.000000</td>\n",
              "      <td>21270.337265</td>\n",
              "      <td>21263.505000</td>\n",
              "      <td>16800.000000</td>\n",
              "      <td>3616.865000</td>\n",
              "      <td>0.000000</td>\n",
              "      <td>0.000000</td>\n",
              "      <td>0.000000</td>\n",
              "      <td>6131.482500</td>\n",
              "      <td>734.000000</td>\n",
              "      <td>730.000000</td>\n",
              "      <td>0.000000</td>\n",
              "      <td>63.000000</td>\n",
              "      <td>1.0</td>\n",
              "      <td>131500.000000</td>\n",
              "      <td>22.925000</td>\n",
              "      <td>0.000000</td>\n",
              "      <td>0.000000</td>\n",
              "      <td>2.154425e+05</td>\n",
              "      <td>...</td>\n",
              "      <td>12.000000</td>\n",
              "      <td>11.000000</td>\n",
              "      <td>19.000000</td>\n",
              "      <td>7.000000</td>\n",
              "      <td>15.000000</td>\n",
              "      <td>0.000000</td>\n",
              "      <td>0.000000</td>\n",
              "      <td>0.000000</td>\n",
              "      <td>3.000000</td>\n",
              "      <td>100.000000</td>\n",
              "      <td>75.000000</td>\n",
              "      <td>0.000000</td>\n",
              "      <td>0.000000</td>\n",
              "      <td>2.620060e+05</td>\n",
              "      <td>69538.000000</td>\n",
              "      <td>30100.000000</td>\n",
              "      <td>62820.500000</td>\n",
              "      <td>NaN</td>\n",
              "      <td>NaN</td>\n",
              "      <td>NaN</td>\n",
              "      <td>NaN</td>\n",
              "      <td>NaN</td>\n",
              "      <td>NaN</td>\n",
              "      <td>NaN</td>\n",
              "      <td>NaN</td>\n",
              "      <td>NaN</td>\n",
              "      <td>NaN</td>\n",
              "      <td>NaN</td>\n",
              "      <td>NaN</td>\n",
              "      <td>NaN</td>\n",
              "      <td>3.0</td>\n",
              "      <td>184.702500</td>\n",
              "      <td>3.0</td>\n",
              "      <td>21.000000</td>\n",
              "      <td>563.452500</td>\n",
              "      <td>15237.485000</td>\n",
              "      <td>251.340000</td>\n",
              "      <td>7190.925000</td>\n",
              "      <td>50.000000</td>\n",
              "      <td>18.000000</td>\n",
              "    </tr>\n",
              "    <tr>\n",
              "      <th>max</th>\n",
              "      <td>6.861706e+07</td>\n",
              "      <td>NaN</td>\n",
              "      <td>35000.000000</td>\n",
              "      <td>35000.000000</td>\n",
              "      <td>35000.000000</td>\n",
              "      <td>28.990000</td>\n",
              "      <td>1354.660000</td>\n",
              "      <td>3.964280e+06</td>\n",
              "      <td>999.000000</td>\n",
              "      <td>15.000000</td>\n",
              "      <td>845.000000</td>\n",
              "      <td>850.000000</td>\n",
              "      <td>5.000000</td>\n",
              "      <td>116.000000</td>\n",
              "      <td>119.000000</td>\n",
              "      <td>55.000000</td>\n",
              "      <td>23.000000</td>\n",
              "      <td>566420.000000</td>\n",
              "      <td>134.300000</td>\n",
              "      <td>105.000000</td>\n",
              "      <td>22692.220000</td>\n",
              "      <td>22692.220000</td>\n",
              "      <td>52636.751645</td>\n",
              "      <td>52636.750000</td>\n",
              "      <td>35000.000000</td>\n",
              "      <td>23336.790000</td>\n",
              "      <td>591.120000</td>\n",
              "      <td>22226.550000</td>\n",
              "      <td>4000.779000</td>\n",
              "      <td>36127.510000</td>\n",
              "      <td>850.000000</td>\n",
              "      <td>845.000000</td>\n",
              "      <td>3.000000</td>\n",
              "      <td>118.000000</td>\n",
              "      <td>1.0</td>\n",
              "      <td>425000.000000</td>\n",
              "      <td>39.500000</td>\n",
              "      <td>2.000000</td>\n",
              "      <td>102841.000000</td>\n",
              "      <td>2.127709e+06</td>\n",
              "      <td>...</td>\n",
              "      <td>80.000000</td>\n",
              "      <td>46.000000</td>\n",
              "      <td>80.000000</td>\n",
              "      <td>33.000000</td>\n",
              "      <td>55.000000</td>\n",
              "      <td>1.000000</td>\n",
              "      <td>2.000000</td>\n",
              "      <td>13.000000</td>\n",
              "      <td>25.000000</td>\n",
              "      <td>100.000000</td>\n",
              "      <td>100.000000</td>\n",
              "      <td>8.000000</td>\n",
              "      <td>22.000000</td>\n",
              "      <td>2.388482e+06</td>\n",
              "      <td>878659.000000</td>\n",
              "      <td>303000.000000</td>\n",
              "      <td>591177.000000</td>\n",
              "      <td>NaN</td>\n",
              "      <td>NaN</td>\n",
              "      <td>NaN</td>\n",
              "      <td>NaN</td>\n",
              "      <td>NaN</td>\n",
              "      <td>NaN</td>\n",
              "      <td>NaN</td>\n",
              "      <td>NaN</td>\n",
              "      <td>NaN</td>\n",
              "      <td>NaN</td>\n",
              "      <td>NaN</td>\n",
              "      <td>NaN</td>\n",
              "      <td>NaN</td>\n",
              "      <td>3.0</td>\n",
              "      <td>629.700000</td>\n",
              "      <td>3.0</td>\n",
              "      <td>28.000000</td>\n",
              "      <td>1889.100000</td>\n",
              "      <td>28479.590000</td>\n",
              "      <td>780.050000</td>\n",
              "      <td>17500.000000</td>\n",
              "      <td>65.040000</td>\n",
              "      <td>24.000000</td>\n",
              "    </tr>\n",
              "  </tbody>\n",
              "</table>\n",
              "<p>8 rows × 115 columns</p>\n",
              "</div>"
            ],
            "text/plain": [
              "                 id  member_id  ...  settlement_percentage  settlement_term\n",
              "count  1.121200e+04        0.0  ...             315.000000       315.000000\n",
              "mean   6.799199e+07        NaN  ...              47.098667        13.742857\n",
              "std    1.975298e+06        NaN  ...               5.107359         7.401190\n",
              "min    3.617740e+05        NaN  ...              30.000000         0.000000\n",
              "25%    6.785838e+07        NaN  ...              45.000000         8.000000\n",
              "50%    6.811299e+07        NaN  ...              45.000000        14.000000\n",
              "75%    6.844532e+07        NaN  ...              50.000000        18.000000\n",
              "max    6.861706e+07        NaN  ...              65.040000        24.000000\n",
              "\n",
              "[8 rows x 115 columns]"
            ]
          },
          "metadata": {
            "tags": []
          },
          "execution_count": 7
        }
      ]
    },
    {
      "cell_type": "markdown",
      "metadata": {
        "id": "b1WFgxXliTot"
      },
      "source": [
        "## Cleaning Dataset"
      ]
    },
    {
      "cell_type": "code",
      "metadata": {
        "id": "dyM2ZFV6iTot",
        "colab": {
          "base_uri": "https://localhost:8080/"
        },
        "outputId": "563c7fde-c93c-4f6d-ff77-90b9afd4cdf3"
      },
      "source": [
        "accepted.isnull().sum(axis=0)"
      ],
      "execution_count": null,
      "outputs": [
        {
          "output_type": "execute_result",
          "data": {
            "text/plain": [
              "id                           0\n",
              "member_id                11212\n",
              "loan_amnt                    0\n",
              "funded_amnt                  0\n",
              "funded_amnt_inv              0\n",
              "                         ...  \n",
              "settlement_status        10897\n",
              "settlement_date          10897\n",
              "settlement_amount        10897\n",
              "settlement_percentage    10897\n",
              "settlement_term          10897\n",
              "Length: 151, dtype: int64"
            ]
          },
          "metadata": {
            "tags": []
          },
          "execution_count": 8
        }
      ]
    },
    {
      "cell_type": "code",
      "metadata": {
        "id": "utaBf9UmiTou",
        "colab": {
          "base_uri": "https://localhost:8080/"
        },
        "outputId": "9627a1a6-a074-4885-bd70-53368fcbf451"
      },
      "source": [
        "accepted.info(verbose=True, null_counts=True)"
      ],
      "execution_count": null,
      "outputs": [
        {
          "output_type": "stream",
          "text": [
            "<class 'pandas.core.frame.DataFrame'>\n",
            "RangeIndex: 11212 entries, 0 to 11211\n",
            "Data columns (total 151 columns):\n",
            " #   Column                                      Non-Null Count  Dtype  \n",
            "---  ------                                      --------------  -----  \n",
            " 0   id                                          11212 non-null  int64  \n",
            " 1   member_id                                   0 non-null      float64\n",
            " 2   loan_amnt                                   11212 non-null  float64\n",
            " 3   funded_amnt                                 11212 non-null  float64\n",
            " 4   funded_amnt_inv                             11212 non-null  float64\n",
            " 5   term                                        11212 non-null  object \n",
            " 6   int_rate                                    11212 non-null  float64\n",
            " 7   installment                                 11212 non-null  float64\n",
            " 8   grade                                       11212 non-null  object \n",
            " 9   sub_grade                                   11212 non-null  object \n",
            " 10  emp_title                                   10586 non-null  object \n",
            " 11  emp_length                                  10594 non-null  object \n",
            " 12  home_ownership                              11212 non-null  object \n",
            " 13  annual_inc                                  11212 non-null  float64\n",
            " 14  verification_status                         11212 non-null  object \n",
            " 15  issue_d                                     11212 non-null  object \n",
            " 16  loan_status                                 11212 non-null  object \n",
            " 17  pymnt_plan                                  11212 non-null  object \n",
            " 18  url                                         11212 non-null  object \n",
            " 19  desc                                        1 non-null      object \n",
            " 20  purpose                                     11212 non-null  object \n",
            " 21  title                                       11080 non-null  object \n",
            " 22  zip_code                                    11212 non-null  object \n",
            " 23  addr_state                                  11212 non-null  object \n",
            " 24  dti                                         11212 non-null  float64\n",
            " 25  delinq_2yrs                                 11212 non-null  float64\n",
            " 26  earliest_cr_line                            11212 non-null  object \n",
            " 27  fico_range_low                              11212 non-null  float64\n",
            " 28  fico_range_high                             11212 non-null  float64\n",
            " 29  inq_last_6mths                              11212 non-null  float64\n",
            " 30  mths_since_last_delinq                      5810 non-null   float64\n",
            " 31  mths_since_last_record                      2010 non-null   float64\n",
            " 32  open_acc                                    11212 non-null  float64\n",
            " 33  pub_rec                                     11212 non-null  float64\n",
            " 34  revol_bal                                   11212 non-null  float64\n",
            " 35  revol_util                                  11207 non-null  float64\n",
            " 36  total_acc                                   11212 non-null  float64\n",
            " 37  initial_list_status                         11212 non-null  object \n",
            " 38  out_prncp                                   11212 non-null  float64\n",
            " 39  out_prncp_inv                               11212 non-null  float64\n",
            " 40  total_pymnt                                 11212 non-null  float64\n",
            " 41  total_pymnt_inv                             11212 non-null  float64\n",
            " 42  total_rec_prncp                             11212 non-null  float64\n",
            " 43  total_rec_int                               11212 non-null  float64\n",
            " 44  total_rec_late_fee                          11212 non-null  float64\n",
            " 45  recoveries                                  11212 non-null  float64\n",
            " 46  collection_recovery_fee                     11212 non-null  float64\n",
            " 47  last_pymnt_d                                11204 non-null  object \n",
            " 48  last_pymnt_amnt                             11212 non-null  float64\n",
            " 49  next_pymnt_d                                1232 non-null   object \n",
            " 50  last_credit_pull_d                          11212 non-null  object \n",
            " 51  last_fico_range_high                        11212 non-null  float64\n",
            " 52  last_fico_range_low                         11212 non-null  float64\n",
            " 53  collections_12_mths_ex_med                  11212 non-null  float64\n",
            " 54  mths_since_last_major_derog                 3273 non-null   float64\n",
            " 55  policy_code                                 11212 non-null  float64\n",
            " 56  application_type                            11212 non-null  object \n",
            " 57  annual_inc_joint                            82 non-null     float64\n",
            " 58  dti_joint                                   82 non-null     float64\n",
            " 59  verification_status_joint                   82 non-null     object \n",
            " 60  acc_now_delinq                              11211 non-null  float64\n",
            " 61  tot_coll_amt                                11211 non-null  float64\n",
            " 62  tot_cur_bal                                 11211 non-null  float64\n",
            " 63  open_acc_6m                                 11210 non-null  float64\n",
            " 64  open_act_il                                 11210 non-null  float64\n",
            " 65  open_il_12m                                 11210 non-null  float64\n",
            " 66  open_il_24m                                 11210 non-null  float64\n",
            " 67  mths_since_rcnt_il                          10932 non-null  float64\n",
            " 68  total_bal_il                                11210 non-null  float64\n",
            " 69  il_util                                     9814 non-null   float64\n",
            " 70  open_rv_12m                                 11210 non-null  float64\n",
            " 71  open_rv_24m                                 11210 non-null  float64\n",
            " 72  max_bal_bc                                  11210 non-null  float64\n",
            " 73  all_util                                    11210 non-null  float64\n",
            " 74  total_rev_hi_lim                            11211 non-null  float64\n",
            " 75  inq_fi                                      11210 non-null  float64\n",
            " 76  total_cu_tl                                 11210 non-null  float64\n",
            " 77  inq_last_12m                                11210 non-null  float64\n",
            " 78  acc_open_past_24mths                        11211 non-null  float64\n",
            " 79  avg_cur_bal                                 11211 non-null  float64\n",
            " 80  bc_open_to_buy                              11104 non-null  float64\n",
            " 81  bc_util                                     11095 non-null  float64\n",
            " 82  chargeoff_within_12_mths                    11211 non-null  float64\n",
            " 83  delinq_amnt                                 11211 non-null  float64\n",
            " 84  mo_sin_old_il_acct                          10933 non-null  float64\n",
            " 85  mo_sin_old_rev_tl_op                        11211 non-null  float64\n",
            " 86  mo_sin_rcnt_rev_tl_op                       11211 non-null  float64\n",
            " 87  mo_sin_rcnt_tl                              11211 non-null  float64\n",
            " 88  mort_acc                                    11211 non-null  float64\n",
            " 89  mths_since_recent_bc                        11108 non-null  float64\n",
            " 90  mths_since_recent_bc_dlq                    2867 non-null   float64\n",
            " 91  mths_since_recent_inq                       10024 non-null  float64\n",
            " 92  mths_since_recent_revol_delinq              4018 non-null   float64\n",
            " 93  num_accts_ever_120_pd                       11211 non-null  float64\n",
            " 94  num_actv_bc_tl                              11211 non-null  float64\n",
            " 95  num_actv_rev_tl                             11211 non-null  float64\n",
            " 96  num_bc_sats                                 11211 non-null  float64\n",
            " 97  num_bc_tl                                   11211 non-null  float64\n",
            " 98  num_il_tl                                   11211 non-null  float64\n",
            " 99  num_op_rev_tl                               11211 non-null  float64\n",
            " 100 num_rev_accts                               11211 non-null  float64\n",
            " 101 num_rev_tl_bal_gt_0                         11211 non-null  float64\n",
            " 102 num_sats                                    11211 non-null  float64\n",
            " 103 num_tl_120dpd_2m                            10612 non-null  float64\n",
            " 104 num_tl_30dpd                                11211 non-null  float64\n",
            " 105 num_tl_90g_dpd_24m                          11211 non-null  float64\n",
            " 106 num_tl_op_past_12m                          11211 non-null  float64\n",
            " 107 pct_tl_nvr_dlq                              11211 non-null  float64\n",
            " 108 percent_bc_gt_75                            11098 non-null  float64\n",
            " 109 pub_rec_bankruptcies                        11211 non-null  float64\n",
            " 110 tax_liens                                   11211 non-null  float64\n",
            " 111 tot_hi_cred_lim                             11211 non-null  float64\n",
            " 112 total_bal_ex_mort                           11211 non-null  float64\n",
            " 113 total_bc_limit                              11211 non-null  float64\n",
            " 114 total_il_high_credit_limit                  11211 non-null  float64\n",
            " 115 revol_bal_joint                             0 non-null      float64\n",
            " 116 sec_app_fico_range_low                      0 non-null      float64\n",
            " 117 sec_app_fico_range_high                     0 non-null      float64\n",
            " 118 sec_app_earliest_cr_line                    0 non-null      float64\n",
            " 119 sec_app_inq_last_6mths                      0 non-null      float64\n",
            " 120 sec_app_mort_acc                            0 non-null      float64\n",
            " 121 sec_app_open_acc                            0 non-null      float64\n",
            " 122 sec_app_revol_util                          0 non-null      float64\n",
            " 123 sec_app_open_act_il                         0 non-null      float64\n",
            " 124 sec_app_num_rev_accts                       0 non-null      float64\n",
            " 125 sec_app_chargeoff_within_12_mths            0 non-null      float64\n",
            " 126 sec_app_collections_12_mths_ex_med          0 non-null      float64\n",
            " 127 sec_app_mths_since_last_major_derog         0 non-null      float64\n",
            " 128 hardship_flag                               11211 non-null  object \n",
            " 129 hardship_type                               92 non-null     object \n",
            " 130 hardship_reason                             92 non-null     object \n",
            " 131 hardship_status                             92 non-null     object \n",
            " 132 deferral_term                               92 non-null     float64\n",
            " 133 hardship_amount                             92 non-null     float64\n",
            " 134 hardship_start_date                         92 non-null     object \n",
            " 135 hardship_end_date                           92 non-null     object \n",
            " 136 payment_plan_start_date                     92 non-null     object \n",
            " 137 hardship_length                             92 non-null     float64\n",
            " 138 hardship_dpd                                92 non-null     float64\n",
            " 139 hardship_loan_status                        92 non-null     object \n",
            " 140 orig_projected_additional_accrued_interest  72 non-null     float64\n",
            " 141 hardship_payoff_balance_amount              92 non-null     float64\n",
            " 142 hardship_last_payment_amount                92 non-null     float64\n",
            " 143 disbursement_method                         11211 non-null  object \n",
            " 144 debt_settlement_flag                        11211 non-null  object \n",
            " 145 debt_settlement_flag_date                   315 non-null    object \n",
            " 146 settlement_status                           315 non-null    object \n",
            " 147 settlement_date                             315 non-null    object \n",
            " 148 settlement_amount                           315 non-null    float64\n",
            " 149 settlement_percentage                       315 non-null    float64\n",
            " 150 settlement_term                             315 non-null    float64\n",
            "dtypes: float64(114), int64(1), object(36)\n",
            "memory usage: 12.9+ MB\n"
          ],
          "name": "stdout"
        }
      ]
    },
    {
      "cell_type": "code",
      "metadata": {
        "id": "GyD89fRUiTou"
      },
      "source": [
        "accepted = accepted.drop(['member_id'], axis=1)"
      ],
      "execution_count": null,
      "outputs": []
    },
    {
      "cell_type": "code",
      "metadata": {
        "id": "A2kpH3FbiTou",
        "colab": {
          "base_uri": "https://localhost:8080/"
        },
        "outputId": "02182799-7483-4cd6-936e-a11a99669327"
      },
      "source": [
        "missing = round(100*(accepted.isnull().sum()/len(accepted.id)), 2)\n",
        "missing.loc[missing > 0]\n",
        "#Percentage of missing values per column"
      ],
      "execution_count": null,
      "outputs": [
        {
          "output_type": "execute_result",
          "data": {
            "text/plain": [
              "emp_title                  5.58\n",
              "emp_length                 5.51\n",
              "desc                      99.99\n",
              "title                      1.18\n",
              "mths_since_last_delinq    48.18\n",
              "                          ...  \n",
              "settlement_status         97.19\n",
              "settlement_date           97.19\n",
              "settlement_amount         97.19\n",
              "settlement_percentage     97.19\n",
              "settlement_term           97.19\n",
              "Length: 104, dtype: float64"
            ]
          },
          "metadata": {
            "tags": []
          },
          "execution_count": 11
        }
      ]
    },
    {
      "cell_type": "code",
      "metadata": {
        "id": "GnIVsbWsiTov",
        "colab": {
          "base_uri": "https://localhost:8080/"
        },
        "outputId": "3f746f97-5822-4d46-be6c-3a3d764058e4"
      },
      "source": [
        "missing.sort_values(ascending=False)"
      ],
      "execution_count": null,
      "outputs": [
        {
          "output_type": "execute_result",
          "data": {
            "text/plain": [
              "sec_app_fico_range_low      100.0\n",
              "sec_app_earliest_cr_line    100.0\n",
              "sec_app_mort_acc            100.0\n",
              "sec_app_open_acc            100.0\n",
              "sec_app_revol_util          100.0\n",
              "                            ...  \n",
              "pub_rec                       0.0\n",
              "open_acc                      0.0\n",
              "inq_last_6mths                0.0\n",
              "fico_range_high               0.0\n",
              "id                            0.0\n",
              "Length: 150, dtype: float64"
            ]
          },
          "metadata": {
            "tags": []
          },
          "execution_count": 12
        }
      ]
    },
    {
      "cell_type": "code",
      "metadata": {
        "id": "xQFf_SzXiTov",
        "colab": {
          "base_uri": "https://localhost:8080/"
        },
        "outputId": "428094d5-d7ff-4643-88f8-cf496822b924"
      },
      "source": [
        "drop_columns = sorted(list(missing[missing > 30].index))\n",
        "drop_columns"
      ],
      "execution_count": null,
      "outputs": [
        {
          "output_type": "execute_result",
          "data": {
            "text/plain": [
              "['annual_inc_joint',\n",
              " 'debt_settlement_flag_date',\n",
              " 'deferral_term',\n",
              " 'desc',\n",
              " 'dti_joint',\n",
              " 'hardship_amount',\n",
              " 'hardship_dpd',\n",
              " 'hardship_end_date',\n",
              " 'hardship_last_payment_amount',\n",
              " 'hardship_length',\n",
              " 'hardship_loan_status',\n",
              " 'hardship_payoff_balance_amount',\n",
              " 'hardship_reason',\n",
              " 'hardship_start_date',\n",
              " 'hardship_status',\n",
              " 'hardship_type',\n",
              " 'mths_since_last_delinq',\n",
              " 'mths_since_last_major_derog',\n",
              " 'mths_since_last_record',\n",
              " 'mths_since_recent_bc_dlq',\n",
              " 'mths_since_recent_revol_delinq',\n",
              " 'next_pymnt_d',\n",
              " 'orig_projected_additional_accrued_interest',\n",
              " 'payment_plan_start_date',\n",
              " 'revol_bal_joint',\n",
              " 'sec_app_chargeoff_within_12_mths',\n",
              " 'sec_app_collections_12_mths_ex_med',\n",
              " 'sec_app_earliest_cr_line',\n",
              " 'sec_app_fico_range_high',\n",
              " 'sec_app_fico_range_low',\n",
              " 'sec_app_inq_last_6mths',\n",
              " 'sec_app_mort_acc',\n",
              " 'sec_app_mths_since_last_major_derog',\n",
              " 'sec_app_num_rev_accts',\n",
              " 'sec_app_open_acc',\n",
              " 'sec_app_open_act_il',\n",
              " 'sec_app_revol_util',\n",
              " 'settlement_amount',\n",
              " 'settlement_date',\n",
              " 'settlement_percentage',\n",
              " 'settlement_status',\n",
              " 'settlement_term',\n",
              " 'verification_status_joint']"
            ]
          },
          "metadata": {
            "tags": []
          },
          "execution_count": 13
        }
      ]
    },
    {
      "cell_type": "code",
      "metadata": {
        "id": "F9WLUZy-iTow",
        "colab": {
          "base_uri": "https://localhost:8080/"
        },
        "outputId": "202dfff1-3512-4efb-87fd-930e784ae8d2"
      },
      "source": [
        "len(drop_columns)"
      ],
      "execution_count": null,
      "outputs": [
        {
          "output_type": "execute_result",
          "data": {
            "text/plain": [
              "43"
            ]
          },
          "metadata": {
            "tags": []
          },
          "execution_count": 14
        }
      ]
    },
    {
      "cell_type": "code",
      "metadata": {
        "id": "r9vO0A0RiTow"
      },
      "source": [
        "accepted = accepted.drop(labels=drop_columns,axis=1)"
      ],
      "execution_count": null,
      "outputs": []
    },
    {
      "cell_type": "code",
      "metadata": {
        "id": "rCYRDAV-iTox",
        "colab": {
          "base_uri": "https://localhost:8080/"
        },
        "outputId": "31f6cbf7-e836-4ac8-cc85-6d9075183bd9"
      },
      "source": [
        "accepted.shape"
      ],
      "execution_count": null,
      "outputs": [
        {
          "output_type": "execute_result",
          "data": {
            "text/plain": [
              "(11212, 107)"
            ]
          },
          "metadata": {
            "tags": []
          },
          "execution_count": 16
        }
      ]
    },
    {
      "cell_type": "code",
      "metadata": {
        "id": "cYa-OG2XiTox",
        "colab": {
          "base_uri": "https://localhost:8080/"
        },
        "outputId": "c4191bab-0991-46e4-de50-03d18c8d9884"
      },
      "source": [
        "accepted.isnull().sum()"
      ],
      "execution_count": null,
      "outputs": [
        {
          "output_type": "execute_result",
          "data": {
            "text/plain": [
              "id                            0\n",
              "loan_amnt                     0\n",
              "funded_amnt                   0\n",
              "funded_amnt_inv               0\n",
              "term                          0\n",
              "                             ..\n",
              "total_bc_limit                1\n",
              "total_il_high_credit_limit    1\n",
              "hardship_flag                 1\n",
              "disbursement_method           1\n",
              "debt_settlement_flag          1\n",
              "Length: 107, dtype: int64"
            ]
          },
          "metadata": {
            "tags": []
          },
          "execution_count": 17
        }
      ]
    },
    {
      "cell_type": "code",
      "metadata": {
        "id": "Voq0ELGciTox",
        "colab": {
          "base_uri": "https://localhost:8080/"
        },
        "outputId": "fe6a236a-5d49-4835-e8f6-fd80d20efc96"
      },
      "source": [
        "accepted['loan_status'].unique()"
      ],
      "execution_count": null,
      "outputs": [
        {
          "output_type": "execute_result",
          "data": {
            "text/plain": [
              "array(['Fully Paid', 'Current', 'Charged Off', 'In Grace Period',\n",
              "       'Late (31-120 days)', 'Late (16-30 days)'], dtype=object)"
            ]
          },
          "metadata": {
            "tags": []
          },
          "execution_count": 18
        }
      ]
    },
    {
      "cell_type": "code",
      "metadata": {
        "id": "c8Kv6ZliiToy",
        "colab": {
          "base_uri": "https://localhost:8080/"
        },
        "outputId": "b693e671-e1a1-43a6-b463-3d55710ac453"
      },
      "source": [
        "accepted['loan_status'].value_counts(dropna=False)"
      ],
      "execution_count": null,
      "outputs": [
        {
          "output_type": "execute_result",
          "data": {
            "text/plain": [
              "Fully Paid            8039\n",
              "Charged Off           1941\n",
              "Current               1147\n",
              "Late (31-120 days)      65\n",
              "In Grace Period         16\n",
              "Late (16-30 days)        4\n",
              "Name: loan_status, dtype: int64"
            ]
          },
          "metadata": {
            "tags": []
          },
          "execution_count": 19
        }
      ]
    },
    {
      "cell_type": "code",
      "metadata": {
        "id": "xs29QkhbiToy",
        "colab": {
          "base_uri": "https://localhost:8080/"
        },
        "outputId": "3fbaa214-e7f3-4cdf-d833-0581f8e6f67a"
      },
      "source": [
        "accepted = accepted.loc[accepted['loan_status'].isin(['Fully Paid','Charged Off'])]\n",
        "accepted['loan_status'].value_counts(dropna=False)"
      ],
      "execution_count": null,
      "outputs": [
        {
          "output_type": "execute_result",
          "data": {
            "text/plain": [
              "Fully Paid     8039\n",
              "Charged Off    1941\n",
              "Name: loan_status, dtype: int64"
            ]
          },
          "metadata": {
            "tags": []
          },
          "execution_count": 20
        }
      ]
    },
    {
      "cell_type": "code",
      "metadata": {
        "id": "kDalf8z7iToz",
        "colab": {
          "base_uri": "https://localhost:8080/",
          "height": 336
        },
        "outputId": "0a10c01f-33ed-4c01-8de3-9301fe8654b5"
      },
      "source": [
        "accepted_clean = accepted\n",
        "accepted_clean.head()"
      ],
      "execution_count": null,
      "outputs": [
        {
          "output_type": "execute_result",
          "data": {
            "text/html": [
              "<div>\n",
              "<style scoped>\n",
              "    .dataframe tbody tr th:only-of-type {\n",
              "        vertical-align: middle;\n",
              "    }\n",
              "\n",
              "    .dataframe tbody tr th {\n",
              "        vertical-align: top;\n",
              "    }\n",
              "\n",
              "    .dataframe thead th {\n",
              "        text-align: right;\n",
              "    }\n",
              "</style>\n",
              "<table border=\"1\" class=\"dataframe\">\n",
              "  <thead>\n",
              "    <tr style=\"text-align: right;\">\n",
              "      <th></th>\n",
              "      <th>id</th>\n",
              "      <th>loan_amnt</th>\n",
              "      <th>funded_amnt</th>\n",
              "      <th>funded_amnt_inv</th>\n",
              "      <th>term</th>\n",
              "      <th>int_rate</th>\n",
              "      <th>installment</th>\n",
              "      <th>grade</th>\n",
              "      <th>sub_grade</th>\n",
              "      <th>emp_title</th>\n",
              "      <th>emp_length</th>\n",
              "      <th>home_ownership</th>\n",
              "      <th>annual_inc</th>\n",
              "      <th>verification_status</th>\n",
              "      <th>issue_d</th>\n",
              "      <th>loan_status</th>\n",
              "      <th>pymnt_plan</th>\n",
              "      <th>url</th>\n",
              "      <th>purpose</th>\n",
              "      <th>title</th>\n",
              "      <th>zip_code</th>\n",
              "      <th>addr_state</th>\n",
              "      <th>dti</th>\n",
              "      <th>delinq_2yrs</th>\n",
              "      <th>earliest_cr_line</th>\n",
              "      <th>fico_range_low</th>\n",
              "      <th>fico_range_high</th>\n",
              "      <th>inq_last_6mths</th>\n",
              "      <th>open_acc</th>\n",
              "      <th>pub_rec</th>\n",
              "      <th>revol_bal</th>\n",
              "      <th>revol_util</th>\n",
              "      <th>total_acc</th>\n",
              "      <th>initial_list_status</th>\n",
              "      <th>out_prncp</th>\n",
              "      <th>out_prncp_inv</th>\n",
              "      <th>total_pymnt</th>\n",
              "      <th>total_pymnt_inv</th>\n",
              "      <th>total_rec_prncp</th>\n",
              "      <th>total_rec_int</th>\n",
              "      <th>...</th>\n",
              "      <th>total_cu_tl</th>\n",
              "      <th>inq_last_12m</th>\n",
              "      <th>acc_open_past_24mths</th>\n",
              "      <th>avg_cur_bal</th>\n",
              "      <th>bc_open_to_buy</th>\n",
              "      <th>bc_util</th>\n",
              "      <th>chargeoff_within_12_mths</th>\n",
              "      <th>delinq_amnt</th>\n",
              "      <th>mo_sin_old_il_acct</th>\n",
              "      <th>mo_sin_old_rev_tl_op</th>\n",
              "      <th>mo_sin_rcnt_rev_tl_op</th>\n",
              "      <th>mo_sin_rcnt_tl</th>\n",
              "      <th>mort_acc</th>\n",
              "      <th>mths_since_recent_bc</th>\n",
              "      <th>mths_since_recent_inq</th>\n",
              "      <th>num_accts_ever_120_pd</th>\n",
              "      <th>num_actv_bc_tl</th>\n",
              "      <th>num_actv_rev_tl</th>\n",
              "      <th>num_bc_sats</th>\n",
              "      <th>num_bc_tl</th>\n",
              "      <th>num_il_tl</th>\n",
              "      <th>num_op_rev_tl</th>\n",
              "      <th>num_rev_accts</th>\n",
              "      <th>num_rev_tl_bal_gt_0</th>\n",
              "      <th>num_sats</th>\n",
              "      <th>num_tl_120dpd_2m</th>\n",
              "      <th>num_tl_30dpd</th>\n",
              "      <th>num_tl_90g_dpd_24m</th>\n",
              "      <th>num_tl_op_past_12m</th>\n",
              "      <th>pct_tl_nvr_dlq</th>\n",
              "      <th>percent_bc_gt_75</th>\n",
              "      <th>pub_rec_bankruptcies</th>\n",
              "      <th>tax_liens</th>\n",
              "      <th>tot_hi_cred_lim</th>\n",
              "      <th>total_bal_ex_mort</th>\n",
              "      <th>total_bc_limit</th>\n",
              "      <th>total_il_high_credit_limit</th>\n",
              "      <th>hardship_flag</th>\n",
              "      <th>disbursement_method</th>\n",
              "      <th>debt_settlement_flag</th>\n",
              "    </tr>\n",
              "  </thead>\n",
              "  <tbody>\n",
              "    <tr>\n",
              "      <th>0</th>\n",
              "      <td>68407277</td>\n",
              "      <td>3600.0</td>\n",
              "      <td>3600.0</td>\n",
              "      <td>3600.0</td>\n",
              "      <td>36 months</td>\n",
              "      <td>13.99</td>\n",
              "      <td>123.03</td>\n",
              "      <td>C</td>\n",
              "      <td>C4</td>\n",
              "      <td>leadman</td>\n",
              "      <td>10+ years</td>\n",
              "      <td>MORTGAGE</td>\n",
              "      <td>55000.0</td>\n",
              "      <td>Not Verified</td>\n",
              "      <td>Dec-2015</td>\n",
              "      <td>Fully Paid</td>\n",
              "      <td>n</td>\n",
              "      <td>https://lendingclub.com/browse/loanDetail.acti...</td>\n",
              "      <td>debt_consolidation</td>\n",
              "      <td>Debt consolidation</td>\n",
              "      <td>190xx</td>\n",
              "      <td>PA</td>\n",
              "      <td>5.91</td>\n",
              "      <td>0.0</td>\n",
              "      <td>Aug-2003</td>\n",
              "      <td>675.0</td>\n",
              "      <td>679.0</td>\n",
              "      <td>1.0</td>\n",
              "      <td>7.0</td>\n",
              "      <td>0.0</td>\n",
              "      <td>2765.0</td>\n",
              "      <td>29.7</td>\n",
              "      <td>13.0</td>\n",
              "      <td>w</td>\n",
              "      <td>0.0</td>\n",
              "      <td>0.0</td>\n",
              "      <td>4421.723917</td>\n",
              "      <td>4421.72</td>\n",
              "      <td>3600.0</td>\n",
              "      <td>821.72</td>\n",
              "      <td>...</td>\n",
              "      <td>1.0</td>\n",
              "      <td>4.0</td>\n",
              "      <td>4.0</td>\n",
              "      <td>20701.0</td>\n",
              "      <td>1506.0</td>\n",
              "      <td>37.2</td>\n",
              "      <td>0.0</td>\n",
              "      <td>0.0</td>\n",
              "      <td>148.0</td>\n",
              "      <td>128.0</td>\n",
              "      <td>3.0</td>\n",
              "      <td>3.0</td>\n",
              "      <td>1.0</td>\n",
              "      <td>4.0</td>\n",
              "      <td>4.0</td>\n",
              "      <td>2.0</td>\n",
              "      <td>2.0</td>\n",
              "      <td>4.0</td>\n",
              "      <td>2.0</td>\n",
              "      <td>5.0</td>\n",
              "      <td>3.0</td>\n",
              "      <td>4.0</td>\n",
              "      <td>9.0</td>\n",
              "      <td>4.0</td>\n",
              "      <td>7.0</td>\n",
              "      <td>0.0</td>\n",
              "      <td>0.0</td>\n",
              "      <td>0.0</td>\n",
              "      <td>3.0</td>\n",
              "      <td>76.9</td>\n",
              "      <td>0.0</td>\n",
              "      <td>0.0</td>\n",
              "      <td>0.0</td>\n",
              "      <td>178050.0</td>\n",
              "      <td>7746.0</td>\n",
              "      <td>2400.0</td>\n",
              "      <td>13734.0</td>\n",
              "      <td>N</td>\n",
              "      <td>Cash</td>\n",
              "      <td>N</td>\n",
              "    </tr>\n",
              "    <tr>\n",
              "      <th>1</th>\n",
              "      <td>68355089</td>\n",
              "      <td>24700.0</td>\n",
              "      <td>24700.0</td>\n",
              "      <td>24700.0</td>\n",
              "      <td>36 months</td>\n",
              "      <td>11.99</td>\n",
              "      <td>820.28</td>\n",
              "      <td>C</td>\n",
              "      <td>C1</td>\n",
              "      <td>Engineer</td>\n",
              "      <td>10+ years</td>\n",
              "      <td>MORTGAGE</td>\n",
              "      <td>65000.0</td>\n",
              "      <td>Not Verified</td>\n",
              "      <td>Dec-2015</td>\n",
              "      <td>Fully Paid</td>\n",
              "      <td>n</td>\n",
              "      <td>https://lendingclub.com/browse/loanDetail.acti...</td>\n",
              "      <td>small_business</td>\n",
              "      <td>Business</td>\n",
              "      <td>577xx</td>\n",
              "      <td>SD</td>\n",
              "      <td>16.06</td>\n",
              "      <td>1.0</td>\n",
              "      <td>Dec-1999</td>\n",
              "      <td>715.0</td>\n",
              "      <td>719.0</td>\n",
              "      <td>4.0</td>\n",
              "      <td>22.0</td>\n",
              "      <td>0.0</td>\n",
              "      <td>21470.0</td>\n",
              "      <td>19.2</td>\n",
              "      <td>38.0</td>\n",
              "      <td>w</td>\n",
              "      <td>0.0</td>\n",
              "      <td>0.0</td>\n",
              "      <td>25679.660000</td>\n",
              "      <td>25679.66</td>\n",
              "      <td>24700.0</td>\n",
              "      <td>979.66</td>\n",
              "      <td>...</td>\n",
              "      <td>0.0</td>\n",
              "      <td>6.0</td>\n",
              "      <td>4.0</td>\n",
              "      <td>9733.0</td>\n",
              "      <td>57830.0</td>\n",
              "      <td>27.1</td>\n",
              "      <td>0.0</td>\n",
              "      <td>0.0</td>\n",
              "      <td>113.0</td>\n",
              "      <td>192.0</td>\n",
              "      <td>2.0</td>\n",
              "      <td>2.0</td>\n",
              "      <td>4.0</td>\n",
              "      <td>2.0</td>\n",
              "      <td>0.0</td>\n",
              "      <td>0.0</td>\n",
              "      <td>5.0</td>\n",
              "      <td>5.0</td>\n",
              "      <td>13.0</td>\n",
              "      <td>17.0</td>\n",
              "      <td>6.0</td>\n",
              "      <td>20.0</td>\n",
              "      <td>27.0</td>\n",
              "      <td>5.0</td>\n",
              "      <td>22.0</td>\n",
              "      <td>0.0</td>\n",
              "      <td>0.0</td>\n",
              "      <td>0.0</td>\n",
              "      <td>2.0</td>\n",
              "      <td>97.4</td>\n",
              "      <td>7.7</td>\n",
              "      <td>0.0</td>\n",
              "      <td>0.0</td>\n",
              "      <td>314017.0</td>\n",
              "      <td>39475.0</td>\n",
              "      <td>79300.0</td>\n",
              "      <td>24667.0</td>\n",
              "      <td>N</td>\n",
              "      <td>Cash</td>\n",
              "      <td>N</td>\n",
              "    </tr>\n",
              "    <tr>\n",
              "      <th>2</th>\n",
              "      <td>68341763</td>\n",
              "      <td>20000.0</td>\n",
              "      <td>20000.0</td>\n",
              "      <td>20000.0</td>\n",
              "      <td>60 months</td>\n",
              "      <td>10.78</td>\n",
              "      <td>432.66</td>\n",
              "      <td>B</td>\n",
              "      <td>B4</td>\n",
              "      <td>truck driver</td>\n",
              "      <td>10+ years</td>\n",
              "      <td>MORTGAGE</td>\n",
              "      <td>63000.0</td>\n",
              "      <td>Not Verified</td>\n",
              "      <td>Dec-2015</td>\n",
              "      <td>Fully Paid</td>\n",
              "      <td>n</td>\n",
              "      <td>https://lendingclub.com/browse/loanDetail.acti...</td>\n",
              "      <td>home_improvement</td>\n",
              "      <td>NaN</td>\n",
              "      <td>605xx</td>\n",
              "      <td>IL</td>\n",
              "      <td>10.78</td>\n",
              "      <td>0.0</td>\n",
              "      <td>Aug-2000</td>\n",
              "      <td>695.0</td>\n",
              "      <td>699.0</td>\n",
              "      <td>0.0</td>\n",
              "      <td>6.0</td>\n",
              "      <td>0.0</td>\n",
              "      <td>7869.0</td>\n",
              "      <td>56.2</td>\n",
              "      <td>18.0</td>\n",
              "      <td>w</td>\n",
              "      <td>0.0</td>\n",
              "      <td>0.0</td>\n",
              "      <td>22705.924294</td>\n",
              "      <td>22705.92</td>\n",
              "      <td>20000.0</td>\n",
              "      <td>2705.92</td>\n",
              "      <td>...</td>\n",
              "      <td>5.0</td>\n",
              "      <td>1.0</td>\n",
              "      <td>6.0</td>\n",
              "      <td>31617.0</td>\n",
              "      <td>2737.0</td>\n",
              "      <td>55.9</td>\n",
              "      <td>0.0</td>\n",
              "      <td>0.0</td>\n",
              "      <td>125.0</td>\n",
              "      <td>184.0</td>\n",
              "      <td>14.0</td>\n",
              "      <td>14.0</td>\n",
              "      <td>5.0</td>\n",
              "      <td>101.0</td>\n",
              "      <td>10.0</td>\n",
              "      <td>0.0</td>\n",
              "      <td>2.0</td>\n",
              "      <td>3.0</td>\n",
              "      <td>2.0</td>\n",
              "      <td>4.0</td>\n",
              "      <td>6.0</td>\n",
              "      <td>4.0</td>\n",
              "      <td>7.0</td>\n",
              "      <td>3.0</td>\n",
              "      <td>6.0</td>\n",
              "      <td>0.0</td>\n",
              "      <td>0.0</td>\n",
              "      <td>0.0</td>\n",
              "      <td>0.0</td>\n",
              "      <td>100.0</td>\n",
              "      <td>50.0</td>\n",
              "      <td>0.0</td>\n",
              "      <td>0.0</td>\n",
              "      <td>218418.0</td>\n",
              "      <td>18696.0</td>\n",
              "      <td>6200.0</td>\n",
              "      <td>14877.0</td>\n",
              "      <td>N</td>\n",
              "      <td>Cash</td>\n",
              "      <td>N</td>\n",
              "    </tr>\n",
              "    <tr>\n",
              "      <th>4</th>\n",
              "      <td>68476807</td>\n",
              "      <td>10400.0</td>\n",
              "      <td>10400.0</td>\n",
              "      <td>10400.0</td>\n",
              "      <td>60 months</td>\n",
              "      <td>22.45</td>\n",
              "      <td>289.91</td>\n",
              "      <td>F</td>\n",
              "      <td>F1</td>\n",
              "      <td>Contract Specialist</td>\n",
              "      <td>3 years</td>\n",
              "      <td>MORTGAGE</td>\n",
              "      <td>104433.0</td>\n",
              "      <td>Source Verified</td>\n",
              "      <td>Dec-2015</td>\n",
              "      <td>Fully Paid</td>\n",
              "      <td>n</td>\n",
              "      <td>https://lendingclub.com/browse/loanDetail.acti...</td>\n",
              "      <td>major_purchase</td>\n",
              "      <td>Major purchase</td>\n",
              "      <td>174xx</td>\n",
              "      <td>PA</td>\n",
              "      <td>25.37</td>\n",
              "      <td>1.0</td>\n",
              "      <td>Jun-1998</td>\n",
              "      <td>695.0</td>\n",
              "      <td>699.0</td>\n",
              "      <td>3.0</td>\n",
              "      <td>12.0</td>\n",
              "      <td>0.0</td>\n",
              "      <td>21929.0</td>\n",
              "      <td>64.5</td>\n",
              "      <td>35.0</td>\n",
              "      <td>w</td>\n",
              "      <td>0.0</td>\n",
              "      <td>0.0</td>\n",
              "      <td>11740.500000</td>\n",
              "      <td>11740.50</td>\n",
              "      <td>10400.0</td>\n",
              "      <td>1340.50</td>\n",
              "      <td>...</td>\n",
              "      <td>1.0</td>\n",
              "      <td>3.0</td>\n",
              "      <td>10.0</td>\n",
              "      <td>27644.0</td>\n",
              "      <td>4567.0</td>\n",
              "      <td>77.5</td>\n",
              "      <td>0.0</td>\n",
              "      <td>0.0</td>\n",
              "      <td>128.0</td>\n",
              "      <td>210.0</td>\n",
              "      <td>4.0</td>\n",
              "      <td>4.0</td>\n",
              "      <td>6.0</td>\n",
              "      <td>4.0</td>\n",
              "      <td>1.0</td>\n",
              "      <td>0.0</td>\n",
              "      <td>4.0</td>\n",
              "      <td>6.0</td>\n",
              "      <td>5.0</td>\n",
              "      <td>9.0</td>\n",
              "      <td>10.0</td>\n",
              "      <td>7.0</td>\n",
              "      <td>19.0</td>\n",
              "      <td>6.0</td>\n",
              "      <td>12.0</td>\n",
              "      <td>0.0</td>\n",
              "      <td>0.0</td>\n",
              "      <td>0.0</td>\n",
              "      <td>4.0</td>\n",
              "      <td>96.6</td>\n",
              "      <td>60.0</td>\n",
              "      <td>0.0</td>\n",
              "      <td>0.0</td>\n",
              "      <td>439570.0</td>\n",
              "      <td>95768.0</td>\n",
              "      <td>20300.0</td>\n",
              "      <td>88097.0</td>\n",
              "      <td>N</td>\n",
              "      <td>Cash</td>\n",
              "      <td>N</td>\n",
              "    </tr>\n",
              "    <tr>\n",
              "      <th>5</th>\n",
              "      <td>68426831</td>\n",
              "      <td>11950.0</td>\n",
              "      <td>11950.0</td>\n",
              "      <td>11950.0</td>\n",
              "      <td>36 months</td>\n",
              "      <td>13.44</td>\n",
              "      <td>405.18</td>\n",
              "      <td>C</td>\n",
              "      <td>C3</td>\n",
              "      <td>Veterinary Tecnician</td>\n",
              "      <td>4 years</td>\n",
              "      <td>RENT</td>\n",
              "      <td>34000.0</td>\n",
              "      <td>Source Verified</td>\n",
              "      <td>Dec-2015</td>\n",
              "      <td>Fully Paid</td>\n",
              "      <td>n</td>\n",
              "      <td>https://lendingclub.com/browse/loanDetail.acti...</td>\n",
              "      <td>debt_consolidation</td>\n",
              "      <td>Debt consolidation</td>\n",
              "      <td>300xx</td>\n",
              "      <td>GA</td>\n",
              "      <td>10.20</td>\n",
              "      <td>0.0</td>\n",
              "      <td>Oct-1987</td>\n",
              "      <td>690.0</td>\n",
              "      <td>694.0</td>\n",
              "      <td>0.0</td>\n",
              "      <td>5.0</td>\n",
              "      <td>0.0</td>\n",
              "      <td>8822.0</td>\n",
              "      <td>68.4</td>\n",
              "      <td>6.0</td>\n",
              "      <td>w</td>\n",
              "      <td>0.0</td>\n",
              "      <td>0.0</td>\n",
              "      <td>13708.948530</td>\n",
              "      <td>13708.95</td>\n",
              "      <td>11950.0</td>\n",
              "      <td>1758.95</td>\n",
              "      <td>...</td>\n",
              "      <td>0.0</td>\n",
              "      <td>0.0</td>\n",
              "      <td>0.0</td>\n",
              "      <td>2560.0</td>\n",
              "      <td>844.0</td>\n",
              "      <td>91.0</td>\n",
              "      <td>0.0</td>\n",
              "      <td>0.0</td>\n",
              "      <td>338.0</td>\n",
              "      <td>54.0</td>\n",
              "      <td>32.0</td>\n",
              "      <td>32.0</td>\n",
              "      <td>0.0</td>\n",
              "      <td>36.0</td>\n",
              "      <td>NaN</td>\n",
              "      <td>0.0</td>\n",
              "      <td>2.0</td>\n",
              "      <td>3.0</td>\n",
              "      <td>2.0</td>\n",
              "      <td>2.0</td>\n",
              "      <td>2.0</td>\n",
              "      <td>4.0</td>\n",
              "      <td>4.0</td>\n",
              "      <td>3.0</td>\n",
              "      <td>5.0</td>\n",
              "      <td>0.0</td>\n",
              "      <td>0.0</td>\n",
              "      <td>0.0</td>\n",
              "      <td>0.0</td>\n",
              "      <td>100.0</td>\n",
              "      <td>100.0</td>\n",
              "      <td>0.0</td>\n",
              "      <td>0.0</td>\n",
              "      <td>16900.0</td>\n",
              "      <td>12798.0</td>\n",
              "      <td>9400.0</td>\n",
              "      <td>4000.0</td>\n",
              "      <td>N</td>\n",
              "      <td>Cash</td>\n",
              "      <td>N</td>\n",
              "    </tr>\n",
              "  </tbody>\n",
              "</table>\n",
              "<p>5 rows × 107 columns</p>\n",
              "</div>"
            ],
            "text/plain": [
              "         id  loan_amnt  ...  disbursement_method  debt_settlement_flag\n",
              "0  68407277     3600.0  ...                 Cash                     N\n",
              "1  68355089    24700.0  ...                 Cash                     N\n",
              "2  68341763    20000.0  ...                 Cash                     N\n",
              "4  68476807    10400.0  ...                 Cash                     N\n",
              "5  68426831    11950.0  ...                 Cash                     N\n",
              "\n",
              "[5 rows x 107 columns]"
            ]
          },
          "metadata": {
            "tags": []
          },
          "execution_count": 21
        }
      ]
    },
    {
      "cell_type": "markdown",
      "metadata": {
        "id": "TEq5IV8eiTo0"
      },
      "source": [
        "# \"Accepted\" data analysis"
      ]
    },
    {
      "cell_type": "code",
      "metadata": {
        "id": "6xzDvELQiTo0",
        "colab": {
          "base_uri": "https://localhost:8080/"
        },
        "outputId": "5cc9d53b-70d5-4edf-afe0-19edc55b6011"
      },
      "source": [
        "#We know that there are 2 loan status:\n",
        "accepted_clean['loan_status'].value_counts(dropna=False)"
      ],
      "execution_count": null,
      "outputs": [
        {
          "output_type": "execute_result",
          "data": {
            "text/plain": [
              "Fully Paid     8039\n",
              "Charged Off    1941\n",
              "Name: loan_status, dtype: int64"
            ]
          },
          "metadata": {
            "tags": []
          },
          "execution_count": 22
        }
      ]
    },
    {
      "cell_type": "markdown",
      "metadata": {
        "id": "gkhrCwgkiTo1"
      },
      "source": [
        "## Creating a Pie Chart for Loan status"
      ]
    },
    {
      "cell_type": "code",
      "metadata": {
        "id": "EArwsvDJiTo1",
        "colab": {
          "base_uri": "https://localhost:8080/",
          "height": 394
        },
        "outputId": "8419fdd5-4de9-4a8a-c6df-1062d3d57cd4"
      },
      "source": [
        "# Converting number of values in loan_status column to percentages:\n",
        "total = accepted_clean['loan_status'].value_counts(dropna=False).sum()\n",
        "status = [accepted_clean['loan_status'].value_counts(dropna=False)[0], accepted_clean['loan_status'].value_counts(dropna=False)[1]]\n",
        "fully_paid_percent = round((status[0]*100)/total,0)\n",
        "charge_off_percent = round((status[1]*100)/total,0)\n",
        "percent = [str(fully_paid_percent)+\"%\",str(charge_off_percent)+\"%\"]\n",
        "# Creating Pie Chart for loan_status column:\n",
        "plt.figure(figsize=(12,6))\n",
        "plt.title('Loan Status', fontsize=18, fontweight='bold')\n",
        "plt.pie(accepted_clean['loan_status'].value_counts(dropna=False),labels=percent, startangle=180)\n",
        "plt.legend(['Fully Paid', 'Charged Off'], loc='best')"
      ],
      "execution_count": null,
      "outputs": [
        {
          "output_type": "execute_result",
          "data": {
            "text/plain": [
              "<matplotlib.legend.Legend at 0x7f8ab9dc8dd0>"
            ]
          },
          "metadata": {
            "tags": []
          },
          "execution_count": 23
        },
        {
          "output_type": "display_data",
          "data": {
            "image/png": "[encoded data removed]",
            "text/plain": [
              "<Figure size 864x432 with 1 Axes>"
            ]
          },
          "metadata": {
            "tags": []
          }
        }
      ]
    },
    {
      "cell_type": "markdown",
      "metadata": {
        "id": "x2v53oA6iTo2"
      },
      "source": [
        "## Barplot for loan Status"
      ]
    },
    {
      "cell_type": "code",
      "metadata": {
        "id": "dCtszInyiTo2",
        "colab": {
          "base_uri": "https://localhost:8080/",
          "height": 423
        },
        "outputId": "7af5968a-b840-45d6-c7b3-d9af9fd7b61a"
      },
      "source": [
        "plt.figure(figsize=(12,6))\n",
        "sns.barplot(y=accepted_clean['loan_status'].value_counts(dropna=False).index, x=accepted_clean['loan_status'].value_counts(dropna=False))\n",
        "plt.title(\"Loan status count for lending club\", fontsize=16)\n",
        "plt.ylabel('Loan Status')\n",
        "plt.xlabel('Count')"
      ],
      "execution_count": null,
      "outputs": [
        {
          "output_type": "execute_result",
          "data": {
            "text/plain": [
              "Text(0.5, 0, 'Count')"
            ]
          },
          "metadata": {
            "tags": []
          },
          "execution_count": 24
        },
        {
          "output_type": "display_data",
          "data": {
            "image/png": "[encoded data removed]",
            "text/plain": [
              "<Figure size 864x432 with 1 Axes>"
            ]
          },
          "metadata": {
            "tags": [],
            "needs_background": "light"
          }
        }
      ]
    },
    {
      "cell_type": "markdown",
      "metadata": {
        "id": "QlvY2RXkiTo3"
      },
      "source": [
        "## Barplot for the loan status w.r.t loan amounts"
      ]
    },
    {
      "cell_type": "code",
      "metadata": {
        "id": "Chbc4U4yiTo3",
        "colab": {
          "base_uri": "https://localhost:8080/"
        },
        "outputId": "69884aad-874d-4a6b-8248-102932bfa9f7"
      },
      "source": [
        "accepted_clean.loan_amnt"
      ],
      "execution_count": null,
      "outputs": [
        {
          "output_type": "execute_result",
          "data": {
            "text/plain": [
              "0         3600.0\n",
              "1        24700.0\n",
              "2        20000.0\n",
              "4        10400.0\n",
              "5        11950.0\n",
              "          ...   \n",
              "11206    13100.0\n",
              "11208    16800.0\n",
              "11209     8000.0\n",
              "11210    22000.0\n",
              "11211    20000.0\n",
              "Name: loan_amnt, Length: 9980, dtype: float64"
            ]
          },
          "metadata": {
            "tags": []
          },
          "execution_count": 25
        }
      ]
    },
    {
      "cell_type": "code",
      "metadata": {
        "id": "Jic1B6l9iTo3",
        "colab": {
          "base_uri": "https://localhost:8080/"
        },
        "outputId": "127481d8-3857-4e76-fc07-911950d78962"
      },
      "source": [
        "#Categorizing them according to charged off and Fully Paid:\n",
        "categorized_loan_amnt = accepted_clean.groupby('loan_status')['loan_amnt'].sum()\n",
        "categorized_loan_amnt.sum()/(1e6)"
      ],
      "execution_count": null,
      "outputs": [
        {
          "output_type": "execute_result",
          "data": {
            "text/plain": [
              "143.990025"
            ]
          },
          "metadata": {
            "tags": []
          },
          "execution_count": 26
        }
      ]
    },
    {
      "cell_type": "code",
      "metadata": {
        "id": "J6IC1Q84iTo4",
        "colab": {
          "base_uri": "https://localhost:8080/"
        },
        "outputId": "d36173c2-2fc7-47b1-8cc9-2ee8e9685596"
      },
      "source": [
        "#Converting values to millions of dollars:\n",
        "categorized_loan_amnt_str=[]\n",
        "categorized_loan_amnt_str_0 = \"$\"+str(round(categorized_loan_amnt[0]/(1e6),2))+\"m\"\n",
        "categorized_loan_amnt_str_1 = \"$\"+str(round(categorized_loan_amnt[1]/(1e6),2))+\"m\"\n",
        "categorized_loan_amnt_str = [categorized_loan_amnt_str_0, categorized_loan_amnt_str_1]\n",
        "categorized_loan_amnt_str"
      ],
      "execution_count": null,
      "outputs": [
        {
          "output_type": "execute_result",
          "data": {
            "text/plain": [
              "['$30.73m', '$113.26m']"
            ]
          },
          "metadata": {
            "tags": []
          },
          "execution_count": 27
        }
      ]
    },
    {
      "cell_type": "code",
      "metadata": {
        "id": "rAfiIXdPiTo5",
        "colab": {
          "base_uri": "https://localhost:8080/",
          "height": 423
        },
        "outputId": "57ea968d-5a84-4e01-d5ae-ad9461488ce0"
      },
      "source": [
        "#Bulding Barplot For status as per amount:\n",
        "plt.figure(figsize=(12,6))\n",
        "sns.barplot(x=categorized_loan_amnt.index, y=categorized_loan_amnt)\n",
        "plt.title(\"Loan status values for lending club\", fontsize=16)\n",
        "plt.xlabel('Loan Status')\n",
        "plt.ylabel('Count in dollars')"
      ],
      "execution_count": null,
      "outputs": [
        {
          "output_type": "execute_result",
          "data": {
            "text/plain": [
              "Text(0, 0.5, 'Count in dollars')"
            ]
          },
          "metadata": {
            "tags": []
          },
          "execution_count": 28
        },
        {
          "output_type": "display_data",
          "data": {
            "image/png": "[encoded data removed]",
            "text/plain": [
              "<Figure size 864x432 with 1 Axes>"
            ]
          },
          "metadata": {
            "tags": [],
            "needs_background": "light"
          }
        }
      ]
    },
    {
      "cell_type": "markdown",
      "metadata": {
        "id": "XCkvdDKxiTo5"
      },
      "source": [
        "## Pie Chart for for the same in millions of dollars"
      ]
    },
    {
      "cell_type": "code",
      "metadata": {
        "id": "dcFW3330iTo5",
        "colab": {
          "base_uri": "https://localhost:8080/",
          "height": 394
        },
        "outputId": "871936de-f5c3-4a6e-d176-0f16ba456a12"
      },
      "source": [
        "#Pie chart for value in =billions of dollars\n",
        "plt.figure(figsize=(12,6))\n",
        "plt.title('Loan Status Amounts', fontsize=18, fontweight='bold')\n",
        "plt.pie(accepted_clean['loan_status'].value_counts(dropna=False),labels=categorized_loan_amnt_str, startangle=180)\n",
        "plt.legend(['Fully Paid', 'Charged Off'], loc='best')"
      ],
      "execution_count": null,
      "outputs": [
        {
          "output_type": "execute_result",
          "data": {
            "text/plain": [
              "<matplotlib.legend.Legend at 0x7f8ab8249510>"
            ]
          },
          "metadata": {
            "tags": []
          },
          "execution_count": 29
        },
        {
          "output_type": "display_data",
          "data": {
            "image/png": "[encoded data removed]",
            "text/plain": [
              "<Figure size 864x432 with 1 Axes>"
            ]
          },
          "metadata": {
            "tags": []
          }
        }
      ]
    },
    {
      "cell_type": "code",
      "metadata": {
        "id": "R2QwhGV7iTo6",
        "colab": {
          "base_uri": "https://localhost:8080/",
          "height": 417
        },
        "outputId": "f3330fb1-b6e4-4884-cbcc-e5a913b37a4e"
      },
      "source": [
        "accepted_clean[['int_rate','installment']]"
      ],
      "execution_count": null,
      "outputs": [
        {
          "output_type": "execute_result",
          "data": {
            "text/html": [
              "<div>\n",
              "<style scoped>\n",
              "    .dataframe tbody tr th:only-of-type {\n",
              "        vertical-align: middle;\n",
              "    }\n",
              "\n",
              "    .dataframe tbody tr th {\n",
              "        vertical-align: top;\n",
              "    }\n",
              "\n",
              "    .dataframe thead th {\n",
              "        text-align: right;\n",
              "    }\n",
              "</style>\n",
              "<table border=\"1\" class=\"dataframe\">\n",
              "  <thead>\n",
              "    <tr style=\"text-align: right;\">\n",
              "      <th></th>\n",
              "      <th>int_rate</th>\n",
              "      <th>installment</th>\n",
              "    </tr>\n",
              "  </thead>\n",
              "  <tbody>\n",
              "    <tr>\n",
              "      <th>0</th>\n",
              "      <td>13.99</td>\n",
              "      <td>123.03</td>\n",
              "    </tr>\n",
              "    <tr>\n",
              "      <th>1</th>\n",
              "      <td>11.99</td>\n",
              "      <td>820.28</td>\n",
              "    </tr>\n",
              "    <tr>\n",
              "      <th>2</th>\n",
              "      <td>10.78</td>\n",
              "      <td>432.66</td>\n",
              "    </tr>\n",
              "    <tr>\n",
              "      <th>4</th>\n",
              "      <td>22.45</td>\n",
              "      <td>289.91</td>\n",
              "    </tr>\n",
              "    <tr>\n",
              "      <th>5</th>\n",
              "      <td>13.44</td>\n",
              "      <td>405.18</td>\n",
              "    </tr>\n",
              "    <tr>\n",
              "      <th>...</th>\n",
              "      <td>...</td>\n",
              "      <td>...</td>\n",
              "    </tr>\n",
              "    <tr>\n",
              "      <th>11206</th>\n",
              "      <td>18.20</td>\n",
              "      <td>474.92</td>\n",
              "    </tr>\n",
              "    <tr>\n",
              "      <th>11208</th>\n",
              "      <td>7.89</td>\n",
              "      <td>525.60</td>\n",
              "    </tr>\n",
              "    <tr>\n",
              "      <th>11209</th>\n",
              "      <td>9.76</td>\n",
              "      <td>257.24</td>\n",
              "    </tr>\n",
              "    <tr>\n",
              "      <th>11210</th>\n",
              "      <td>9.17</td>\n",
              "      <td>458.51</td>\n",
              "    </tr>\n",
              "    <tr>\n",
              "      <th>11211</th>\n",
              "      <td>6.24</td>\n",
              "      <td>610.62</td>\n",
              "    </tr>\n",
              "  </tbody>\n",
              "</table>\n",
              "<p>9980 rows × 2 columns</p>\n",
              "</div>"
            ],
            "text/plain": [
              "       int_rate  installment\n",
              "0         13.99       123.03\n",
              "1         11.99       820.28\n",
              "2         10.78       432.66\n",
              "4         22.45       289.91\n",
              "5         13.44       405.18\n",
              "...         ...          ...\n",
              "11206     18.20       474.92\n",
              "11208      7.89       525.60\n",
              "11209      9.76       257.24\n",
              "11210      9.17       458.51\n",
              "11211      6.24       610.62\n",
              "\n",
              "[9980 rows x 2 columns]"
            ]
          },
          "metadata": {
            "tags": []
          },
          "execution_count": 30
        }
      ]
    },
    {
      "cell_type": "code",
      "metadata": {
        "id": "3xw2dfbWiTo6",
        "colab": {
          "base_uri": "https://localhost:8080/"
        },
        "outputId": "494af40d-fa55-418b-8bfe-2c748253c300"
      },
      "source": [
        "accepted_clean.columns"
      ],
      "execution_count": null,
      "outputs": [
        {
          "output_type": "execute_result",
          "data": {
            "text/plain": [
              "Index(['id', 'loan_amnt', 'funded_amnt', 'funded_amnt_inv', 'term', 'int_rate',\n",
              "       'installment', 'grade', 'sub_grade', 'emp_title',\n",
              "       ...\n",
              "       'percent_bc_gt_75', 'pub_rec_bankruptcies', 'tax_liens',\n",
              "       'tot_hi_cred_lim', 'total_bal_ex_mort', 'total_bc_limit',\n",
              "       'total_il_high_credit_limit', 'hardship_flag', 'disbursement_method',\n",
              "       'debt_settlement_flag'],\n",
              "      dtype='object', length=107)"
            ]
          },
          "metadata": {
            "tags": []
          },
          "execution_count": 31
        }
      ]
    },
    {
      "cell_type": "code",
      "metadata": {
        "id": "GmBLHfnIiTo7",
        "colab": {
          "base_uri": "https://localhost:8080/",
          "height": 417
        },
        "outputId": "2636171a-0f29-42a9-a817-1c492b6bb317"
      },
      "source": [
        "accepted_clean[['funded_amnt_inv','term']]"
      ],
      "execution_count": null,
      "outputs": [
        {
          "output_type": "execute_result",
          "data": {
            "text/html": [
              "<div>\n",
              "<style scoped>\n",
              "    .dataframe tbody tr th:only-of-type {\n",
              "        vertical-align: middle;\n",
              "    }\n",
              "\n",
              "    .dataframe tbody tr th {\n",
              "        vertical-align: top;\n",
              "    }\n",
              "\n",
              "    .dataframe thead th {\n",
              "        text-align: right;\n",
              "    }\n",
              "</style>\n",
              "<table border=\"1\" class=\"dataframe\">\n",
              "  <thead>\n",
              "    <tr style=\"text-align: right;\">\n",
              "      <th></th>\n",
              "      <th>funded_amnt_inv</th>\n",
              "      <th>term</th>\n",
              "    </tr>\n",
              "  </thead>\n",
              "  <tbody>\n",
              "    <tr>\n",
              "      <th>0</th>\n",
              "      <td>3600.0</td>\n",
              "      <td>36 months</td>\n",
              "    </tr>\n",
              "    <tr>\n",
              "      <th>1</th>\n",
              "      <td>24700.0</td>\n",
              "      <td>36 months</td>\n",
              "    </tr>\n",
              "    <tr>\n",
              "      <th>2</th>\n",
              "      <td>20000.0</td>\n",
              "      <td>60 months</td>\n",
              "    </tr>\n",
              "    <tr>\n",
              "      <th>4</th>\n",
              "      <td>10400.0</td>\n",
              "      <td>60 months</td>\n",
              "    </tr>\n",
              "    <tr>\n",
              "      <th>5</th>\n",
              "      <td>11950.0</td>\n",
              "      <td>36 months</td>\n",
              "    </tr>\n",
              "    <tr>\n",
              "      <th>...</th>\n",
              "      <td>...</td>\n",
              "      <td>...</td>\n",
              "    </tr>\n",
              "    <tr>\n",
              "      <th>11206</th>\n",
              "      <td>13100.0</td>\n",
              "      <td>36 months</td>\n",
              "    </tr>\n",
              "    <tr>\n",
              "      <th>11208</th>\n",
              "      <td>16800.0</td>\n",
              "      <td>36 months</td>\n",
              "    </tr>\n",
              "    <tr>\n",
              "      <th>11209</th>\n",
              "      <td>8000.0</td>\n",
              "      <td>36 months</td>\n",
              "    </tr>\n",
              "    <tr>\n",
              "      <th>11210</th>\n",
              "      <td>22000.0</td>\n",
              "      <td>60 months</td>\n",
              "    </tr>\n",
              "    <tr>\n",
              "      <th>11211</th>\n",
              "      <td>20000.0</td>\n",
              "      <td>36 months</td>\n",
              "    </tr>\n",
              "  </tbody>\n",
              "</table>\n",
              "<p>9980 rows × 2 columns</p>\n",
              "</div>"
            ],
            "text/plain": [
              "       funded_amnt_inv        term\n",
              "0               3600.0   36 months\n",
              "1              24700.0   36 months\n",
              "2              20000.0   60 months\n",
              "4              10400.0   60 months\n",
              "5              11950.0   36 months\n",
              "...                ...         ...\n",
              "11206          13100.0   36 months\n",
              "11208          16800.0   36 months\n",
              "11209           8000.0   36 months\n",
              "11210          22000.0   60 months\n",
              "11211          20000.0   36 months\n",
              "\n",
              "[9980 rows x 2 columns]"
            ]
          },
          "metadata": {
            "tags": []
          },
          "execution_count": 32
        }
      ]
    },
    {
      "cell_type": "code",
      "metadata": {
        "id": "pdyoTSZIiTo7"
      },
      "source": [
        "funded_amnt = accepted_clean['funded_amnt_inv']\n",
        "term = accepted_clean['term']"
      ],
      "execution_count": null,
      "outputs": []
    },
    {
      "cell_type": "markdown",
      "metadata": {
        "id": "_95mtQ4miTo7"
      },
      "source": [
        "## Plots on different terms and the amount funded"
      ]
    },
    {
      "cell_type": "code",
      "metadata": {
        "id": "M5bfx0NSiTo8"
      },
      "source": [
        "term_1 = term.unique()"
      ],
      "execution_count": null,
      "outputs": []
    },
    {
      "cell_type": "code",
      "metadata": {
        "id": "KayECz-IiTo8",
        "colab": {
          "base_uri": "https://localhost:8080/",
          "height": 423
        },
        "outputId": "2e41750d-346c-4fb1-f87e-8ba99d232012"
      },
      "source": [
        "plt.figure(figsize=(12,6))\n",
        "sns.barplot(y=term_1, x=accepted_clean.groupby('term').sum()['funded_amnt_inv'], color='#42b7bd')\n",
        "plt.xlabel('Funded Amount In dollars')\n",
        "plt.ylabel('Month Categories(Term)')\n",
        "plt.title('Plot of Funded amount w.r.t Categorized months(terms)', fontsize=16, fontweight='bold')"
      ],
      "execution_count": null,
      "outputs": [
        {
          "output_type": "execute_result",
          "data": {
            "text/plain": [
              "Text(0.5, 1.0, 'Plot of Funded amount w.r.t Categorized months(terms)')"
            ]
          },
          "metadata": {
            "tags": []
          },
          "execution_count": 35
        },
        {
          "output_type": "display_data",
          "data": {
            "image/png": "[encoded data removed]",
            "text/plain": [
              "<Figure size 864x432 with 1 Axes>"
            ]
          },
          "metadata": {
            "tags": [],
            "needs_background": "light"
          }
        }
      ]
    },
    {
      "cell_type": "code",
      "metadata": {
        "id": "3L_f7fnRiTo_",
        "colab": {
          "base_uri": "https://localhost:8080/",
          "height": 677
        },
        "outputId": "b88b4b6a-1ceb-478d-d342-1dbdeb109881"
      },
      "source": [
        "fig,[ax1,ax2] = plt.subplots(ncols=1, nrows=2, figsize=(12,10))\n",
        "sns.distplot(ax=ax1, a=accepted_clean['int_rate'], bins=20, kde=False)\n",
        "ax1.set_xlabel('Interest Rates')\n",
        "ax1.set_ylabel('Count')\n",
        "sns.boxplot(ax=ax2, x=accepted_clean['int_rate'], y=accepted_clean['loan_status'])\n",
        "ax2.set_xlabel('Interest Rates')\n",
        "ax2.set_ylabel('Loan Status')"
      ],
      "execution_count": null,
      "outputs": [
        {
          "output_type": "stream",
          "text": [
            "/usr/local/lib/python3.7/dist-packages/seaborn/distributions.py:2557: FutureWarning: `distplot` is a deprecated function and will be removed in a future version. Please adapt your code to use either `displot` (a figure-level function with similar flexibility) or `histplot` (an axes-level function for histograms).\n",
            "  warnings.warn(msg, FutureWarning)\n"
          ],
          "name": "stderr"
        },
        {
          "output_type": "execute_result",
          "data": {
            "text/plain": [
              "Text(0, 0.5, 'Loan Status')"
            ]
          },
          "metadata": {
            "tags": []
          },
          "execution_count": 36
        },
        {
          "output_type": "display_data",
          "data": {
            "image/png": "[encoded data removed]",
            "text/plain": [
              "<Figure size 864x720 with 2 Axes>"
            ]
          },
          "metadata": {
            "tags": [],
            "needs_background": "light"
          }
        }
      ]
    },
    {
      "cell_type": "markdown",
      "metadata": {
        "id": "bvHMWEyt9EZo"
      },
      "source": [
        "## Box And Bar plot of installment v/s Grade"
      ]
    },
    {
      "cell_type": "code",
      "metadata": {
        "colab": {
          "base_uri": "https://localhost:8080/",
          "height": 643
        },
        "id": "WqOWuFUq9HvK",
        "outputId": "5e45417f-077a-4f03-dbab-8219b61bd37a"
      },
      "source": [
        "plt.figure(figsize=(12,10))\n",
        "sns.boxplot(x=\"installment\", y=\"grade\", data=accepted_clean)\n",
        "plt.title('Box Plot of Installment value vs. Loan Grade', fontsize=20)\n",
        "plt.xlabel('Installment', fontsize=18)\n",
        "plt.ylabel('Loan Grade', fontsize=18)\n",
        "plt.xticks(fontsize=18)\n",
        "plt.yticks(fontsize=18)\n",
        "plt.show()"
      ],
      "execution_count": null,
      "outputs": [
        {
          "output_type": "display_data",
          "data": {
            "image/png": "[encoded data removed]",
            "text/plain": [
              "<Figure size 864x720 with 1 Axes>"
            ]
          },
          "metadata": {
            "tags": [],
            "needs_background": "light"
          }
        }
      ]
    },
    {
      "cell_type": "code",
      "metadata": {
        "id": "FX3ba_yp9e1r"
      },
      "source": [
        "gr = accepted_clean['grade'].value_counts(dropna=False)"
      ],
      "execution_count": null,
      "outputs": []
    },
    {
      "cell_type": "code",
      "metadata": {
        "colab": {
          "base_uri": "https://localhost:8080/",
          "height": 426
        },
        "id": "l2hx0lei9R3p",
        "outputId": "8437fba2-8f1a-4cdc-e0ed-47d6a775e870"
      },
      "source": [
        "plt.figure(figsize=(12,6))\n",
        "sns.barplot(x=gr,y=gr.index)\n",
        "plt.title('Loan Grades', fontsize=20)\n",
        "plt.ylabel('Loan Grades', fontsize=10)\n",
        "plt.xlabel('Count', fontsize=10)"
      ],
      "execution_count": null,
      "outputs": [
        {
          "output_type": "execute_result",
          "data": {
            "text/plain": [
              "Text(0.5, 0, 'Count')"
            ]
          },
          "metadata": {
            "tags": []
          },
          "execution_count": 39
        },
        {
          "output_type": "display_data",
          "data": {
            "image/png": "[encoded data removed]",
            "text/plain": [
              "<Figure size 864x432 with 1 Axes>"
            ]
          },
          "metadata": {
            "tags": [],
            "needs_background": "light"
          }
        }
      ]
    },
    {
      "cell_type": "code",
      "metadata": {
        "id": "j9CRBhzt9swh"
      },
      "source": [
        ""
      ],
      "execution_count": null,
      "outputs": []
    }
  ]
}